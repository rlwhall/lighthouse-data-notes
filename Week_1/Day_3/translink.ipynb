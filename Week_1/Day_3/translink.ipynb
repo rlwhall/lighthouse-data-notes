{
 "cells": [
  {
   "cell_type": "code",
   "execution_count": 25,
   "metadata": {},
   "outputs": [
    {
     "name": "stdout",
     "output_type": "stream",
     "text": [
      "Dnmlzo7VEguzBUIE5W37\n"
     ]
    }
   ],
   "source": [
    "import requests     # To get HTTP request\n",
    "import os           # To use environmental variables\n",
    "from IPython.display import JSON    # To nicely print out JSON and make it more readable (can only use in Jupyter Lab)\n",
    "\n",
    "apikey = os.environ.get('TRANSLINK_API')\n",
    "print(apikey)      # To check that environmental variable has been loaded"
   ]
  },
  {
   "cell_type": "markdown",
   "metadata": {},
   "source": [
    "## Lets look at some basic examples where we just format the url with our parameters"
   ]
  },
  {
   "cell_type": "code",
   "execution_count": 28,
   "metadata": {},
   "outputs": [
    {
     "name": "stdout",
     "output_type": "stream",
     "text": [
      "{'StopNo': 61935, 'Name': 'UBC EXCHANGE BAY 7 ', 'BayNo': '4', 'City': 'VANCOUVER', 'OnStreet': 'UBC EXCHANGE', 'AtStreet': 'BAY 7', 'Latitude': 49.267419, 'Longitude': -123.246831, 'WheelchairAccess': 1, 'Distance': -1, 'Routes': '099'}\n"
     ]
    },
    {
     "data": {
      "application/json": {
       "AtStreet": "BAY 7",
       "BayNo": "4",
       "City": "VANCOUVER",
       "Distance": -1,
       "Latitude": 49.267419,
       "Longitude": -123.246831,
       "Name": "UBC EXCHANGE BAY 7 ",
       "OnStreet": "UBC EXCHANGE",
       "Routes": "099",
       "StopNo": 61935,
       "WheelchairAccess": 1
      },
      "text/plain": [
       "<IPython.core.display.JSON object>"
      ]
     },
     "execution_count": 28,
     "metadata": {
      "application/json": {
       "expanded": false,
       "root": "root"
      }
     },
     "output_type": "execute_result"
    }
   ],
   "source": [
    "# Example 1: get information about a specific bus stop\n",
    "request_url = 'http://api.translink.ca/rttiapi/v1/stops/61935?apikey={}'.format(apikey)\n",
    "response = requests.get(request_url, headers={'accept': 'application/JSON'}).json()\n",
    "print(response)\n",
    "JSON(response)    # Nicer output than 'print(response)'"
   ]
  },
  {
   "cell_type": "code",
   "execution_count": 29,
   "metadata": {},
   "outputs": [
    {
     "data": {
      "application/json": [
       {
        "Direction": "EAST",
        "RouteMap": {
         "Href": "https://nb.translink.ca/geodata/099.kmz"
        },
        "RouteName": "COMMERCIAL-BROADWAY/UBC (B-LINE)",
        "RouteNo": "099",
        "Schedules": [
         {
          "AddedStop": false,
          "AddedTrip": false,
          "CancelledStop": false,
          "CancelledTrip": false,
          "Destination": "COMM'L-BDWAY STN",
          "ExpectedCountdown": 4,
          "ExpectedLeaveTime": "5:49pm 2020-09-13",
          "LastUpdate": "04:49:03 pm",
          "Pattern": "E1",
          "ScheduleStatus": "*"
         },
         {
          "AddedStop": false,
          "AddedTrip": false,
          "CancelledStop": false,
          "CancelledTrip": false,
          "Destination": "COMM'L-BDWAY STN",
          "ExpectedCountdown": 12,
          "ExpectedLeaveTime": "5:57pm 2020-09-13",
          "LastUpdate": "04:57:25 pm",
          "Pattern": "E1",
          "ScheduleStatus": "*"
         },
         {
          "AddedStop": false,
          "AddedTrip": false,
          "CancelledStop": false,
          "CancelledTrip": false,
          "Destination": "COMM'L-BDWAY STN",
          "ExpectedCountdown": 19,
          "ExpectedLeaveTime": "6:04pm 2020-09-13",
          "LastUpdate": "05:04:15 pm",
          "Pattern": "E1",
          "ScheduleStatus": "*"
         },
         {
          "AddedStop": false,
          "AddedTrip": false,
          "CancelledStop": false,
          "CancelledTrip": false,
          "Destination": "COMM'L-BDWAY STN",
          "ExpectedCountdown": 27,
          "ExpectedLeaveTime": "6:12pm 2020-09-13",
          "LastUpdate": "05:12:44 pm",
          "Pattern": "E1",
          "ScheduleStatus": "*"
         },
         {
          "AddedStop": false,
          "AddedTrip": false,
          "CancelledStop": false,
          "CancelledTrip": false,
          "Destination": "COMM'L-BDWAY STN",
          "ExpectedCountdown": 34,
          "ExpectedLeaveTime": "6:19pm 2020-09-13",
          "LastUpdate": "05:19:06 pm",
          "Pattern": "E1",
          "ScheduleStatus": " "
         },
         {
          "AddedStop": false,
          "AddedTrip": false,
          "CancelledStop": false,
          "CancelledTrip": false,
          "Destination": "TO BOUNDARY B-LINE",
          "ExpectedCountdown": 42,
          "ExpectedLeaveTime": "6:27pm 2020-09-13",
          "LastUpdate": "05:27:20 pm",
          "Pattern": "E8FL2",
          "ScheduleStatus": " "
         }
        ]
       }
      ],
      "text/plain": [
       "<IPython.core.display.JSON object>"
      ]
     },
     "execution_count": 29,
     "metadata": {
      "application/json": {
       "expanded": false,
       "root": "root"
      }
     },
     "output_type": "execute_result"
    }
   ],
   "source": [
    "# Example 2: get estimates of bus schedules at a specific stop\n",
    "request_url = 'http://api.translink.ca/rttiapi/v1/stops/61935/estimates?apikey={}'.format(apikey)\n",
    "response = requests.get(request_url, headers={'accept': 'application/JSON'}).json()\n",
    "JSON(response)"
   ]
  },
  {
   "cell_type": "code",
   "execution_count": 33,
   "metadata": {},
   "outputs": [
    {
     "data": {
      "application/json": [
       {
        "AtStreet": "98 AVE",
        "BayNo": "N",
        "City": "SURREY",
        "Distance": 307,
        "Latitude": 49.179601,
        "Longitude": -122.845814,
        "Name": "SB KING GEORGE BLVD FS 98 AVE",
        "OnStreet": "KING GEORGE BLVD",
        "Routes": "314, 321, 329",
        "StopNo": 54997,
        "WheelchairAccess": 1
       },
       {
        "AtStreet": "134 ST",
        "BayNo": "N",
        "City": "SURREY",
        "Distance": 338,
        "Latitude": 49.176992,
        "Longitude": -122.850709,
        "Name": "EB 96 AVE FS 134 ST",
        "OnStreet": "96 AVE",
        "Routes": "314, 329",
        "StopNo": 54986,
        "WheelchairAccess": 0
       },
       {
        "AtStreet": "134 ST",
        "BayNo": "N",
        "City": "SURREY",
        "Distance": 342,
        "Latitude": 49.177159,
        "Longitude": -122.851794,
        "Name": "WB 96 AVE FS 134 ST",
        "OnStreet": "96 AVE",
        "Routes": "314, 329",
        "StopNo": 54999,
        "WheelchairAccess": 0
       },
       {
        "AtStreet": "FRASER HWY",
        "BayNo": "N",
        "City": "SURREY",
        "Distance": 367,
        "Latitude": 49.181116,
        "Longitude": -122.845247,
        "Name": "NB KING GEORGE BLVD FS FRASER HWY",
        "OnStreet": "KING GEORGE BLVD",
        "Routes": "",
        "StopNo": 54989,
        "WheelchairAccess": 1
       },
       {
        "AtStreet": "KING GEORGE BLVD",
        "BayNo": "N",
        "City": "SURREY",
        "Distance": 386,
        "Latitude": 49.177135,
        "Longitude": -122.847002,
        "Name": "WB 96 AVE FS KING GEORGE BLVD",
        "OnStreet": "96 AVE",
        "Routes": "314, 329",
        "StopNo": 54998,
        "WheelchairAccess": 1
       },
       {
        "AtStreet": "96 AVE",
        "BayNo": "N",
        "City": "SURREY",
        "Distance": 425,
        "Latitude": 49.177621,
        "Longitude": -122.845422,
        "Name": "NB KING GEORGE BLVD FS 96 AVE",
        "OnStreet": "KING GEORGE BLVD",
        "Routes": "314, 321, 326, 329, 394, R1",
        "StopNo": 54988,
        "WheelchairAccess": 1
       },
       {
        "AtStreet": "BAY 4",
        "BayNo": "4",
        "City": "SURREY",
        "Distance": 460,
        "Latitude": 49.182677,
        "Longitude": -122.845166,
        "Name": "KING GEORGE STN BAY 4",
        "OnStreet": "KING GEORGE STN",
        "Routes": "314, 321, 326, 329, 502, 503, R1",
        "StopNo": 59339,
        "WheelchairAccess": 1
       },
       {
        "AtStreet": "BAY 1",
        "BayNo": "1",
        "City": "SURREY",
        "Distance": 473,
        "Latitude": 49.183201,
        "Longitude": -122.845706,
        "Name": "KING GEORGE STN BAY 1     ",
        "OnStreet": "KING GEORGE STN",
        "Routes": "314, 321, 326, 329, R1",
        "StopNo": 54996,
        "WheelchairAccess": 1
       },
       {
        "AtStreet": "KING GEORGE STN",
        "BayNo": "N",
        "City": "SURREY",
        "Distance": 490,
        "Latitude": 49.182755,
        "Longitude": -122.844744,
        "Name": "KING GEORGE STATION PLATFORM 2",
        "OnStreet": "SKYTRAIN",
        "Routes": "",
        "StopNo": 57983,
        "WheelchairAccess": 0
       },
       {
        "AtStreet": "98 AVE",
        "BayNo": "N",
        "City": "SURREY",
        "Distance": 491,
        "Latitude": 49.181077,
        "Longitude": -122.856552,
        "Name": "NB 132 ST NS 98 AVE",
        "OnStreet": "132 ST",
        "Routes": "324",
        "StopNo": 55665,
        "WheelchairAccess": 1
       },
       {
        "AtStreet": "98 AVE",
        "BayNo": "N",
        "City": "SURREY",
        "Distance": 496,
        "Latitude": 49.180401,
        "Longitude": -122.856803,
        "Name": "SB 132 ST FS 98 AVE",
        "OnStreet": "132 ST",
        "Routes": "324",
        "StopNo": 55669,
        "WheelchairAccess": 0
       },
       {
        "AtStreet": "BAY 2",
        "BayNo": "2",
        "City": "SURREY",
        "Distance": 496,
        "Latitude": 49.183124,
        "Longitude": -122.845136,
        "Name": "KING GEORGE STN BAY 2",
        "OnStreet": "KING GEORGE STN",
        "Routes": "345, 394",
        "StopNo": 54990,
        "WheelchairAccess": 1
       },
       {
        "AtStreet": "KING GEORGE STN",
        "BayNo": "N",
        "City": "SURREY",
        "Distance": 497,
        "Latitude": 49.182812,
        "Longitude": -122.844691,
        "Name": "KING GEORGE STATION PLATFORM 1",
        "OnStreet": "SKYTRAIN",
        "Routes": "",
        "StopNo": 57984,
        "WheelchairAccess": 0
       }
      ],
      "text/plain": [
       "<IPython.core.display.JSON object>"
      ]
     },
     "execution_count": 33,
     "metadata": {
      "application/json": {
       "expanded": false,
       "root": "root"
      }
     },
     "output_type": "execute_result"
    }
   ],
   "source": [
    "# Example 3: get all bus stops near a (latitude, longitude) coordinate (more parameters)\n",
    "request_url = 'https://api.translink.ca/rttiapi/v1/stops?apikey={}&lat={}&long={}'.format(apikey, 49.18, -122.85)\n",
    "response = requests.get(request_url, headers={'accept': 'application/JSON'}).json()\n",
    "JSON(response)"
   ]
  },
  {
   "cell_type": "code",
   "execution_count": 34,
   "metadata": {},
   "outputs": [
    {
     "data": {
      "text/plain": [
       "list"
      ]
     },
     "execution_count": 34,
     "metadata": {},
     "output_type": "execute_result"
    }
   ],
   "source": [
    "# We're getting the response as JSON data. What does this look like in Python?\n",
    "# It can either be a list of dictionaries, or a dictionary\n",
    "type(response)"
   ]
  },
  {
   "cell_type": "code",
   "execution_count": 36,
   "metadata": {},
   "outputs": [
    {
     "data": {
      "text/plain": [
       "54997"
      ]
     },
     "execution_count": 36,
     "metadata": {},
     "output_type": "execute_result"
    }
   ],
   "source": [
    "# It's a list of dictionaries, so if we want to access specific entires, we can do so just like\n",
    "# we would any other list/dictionary\n",
    "response[0]['StopNo']    # Get the stop number of the first bus stop in the list"
   ]
  },
  {
   "cell_type": "markdown",
   "metadata": {},
   "source": [
    "## The requests.get function allows us to specify our parameters in a more organized way, using the \"params\" argument"
   ]
  },
  {
   "cell_type": "code",
   "execution_count": 40,
   "metadata": {},
   "outputs": [
    {
     "data": {
      "application/json": [
       {
        "AtStreet": "98 AVE",
        "BayNo": "N",
        "City": "SURREY",
        "Distance": 307,
        "Latitude": 49.179601,
        "Longitude": -122.845814,
        "Name": "SB KING GEORGE BLVD FS 98 AVE",
        "OnStreet": "KING GEORGE BLVD",
        "Routes": "314, 321, 329",
        "StopNo": 54997,
        "WheelchairAccess": 1
       },
       {
        "AtStreet": "134 ST",
        "BayNo": "N",
        "City": "SURREY",
        "Distance": 338,
        "Latitude": 49.176992,
        "Longitude": -122.850709,
        "Name": "EB 96 AVE FS 134 ST",
        "OnStreet": "96 AVE",
        "Routes": "314, 329",
        "StopNo": 54986,
        "WheelchairAccess": 0
       },
       {
        "AtStreet": "134 ST",
        "BayNo": "N",
        "City": "SURREY",
        "Distance": 342,
        "Latitude": 49.177159,
        "Longitude": -122.851794,
        "Name": "WB 96 AVE FS 134 ST",
        "OnStreet": "96 AVE",
        "Routes": "314, 329",
        "StopNo": 54999,
        "WheelchairAccess": 0
       },
       {
        "AtStreet": "FRASER HWY",
        "BayNo": "N",
        "City": "SURREY",
        "Distance": 367,
        "Latitude": 49.181116,
        "Longitude": -122.845247,
        "Name": "NB KING GEORGE BLVD FS FRASER HWY",
        "OnStreet": "KING GEORGE BLVD",
        "Routes": "",
        "StopNo": 54989,
        "WheelchairAccess": 1
       },
       {
        "AtStreet": "KING GEORGE BLVD",
        "BayNo": "N",
        "City": "SURREY",
        "Distance": 386,
        "Latitude": 49.177135,
        "Longitude": -122.847002,
        "Name": "WB 96 AVE FS KING GEORGE BLVD",
        "OnStreet": "96 AVE",
        "Routes": "314, 329",
        "StopNo": 54998,
        "WheelchairAccess": 1
       },
       {
        "AtStreet": "96 AVE",
        "BayNo": "N",
        "City": "SURREY",
        "Distance": 425,
        "Latitude": 49.177621,
        "Longitude": -122.845422,
        "Name": "NB KING GEORGE BLVD FS 96 AVE",
        "OnStreet": "KING GEORGE BLVD",
        "Routes": "314, 321, 326, 329, 394, R1",
        "StopNo": 54988,
        "WheelchairAccess": 1
       },
       {
        "AtStreet": "BAY 4",
        "BayNo": "4",
        "City": "SURREY",
        "Distance": 460,
        "Latitude": 49.182677,
        "Longitude": -122.845166,
        "Name": "KING GEORGE STN BAY 4",
        "OnStreet": "KING GEORGE STN",
        "Routes": "314, 321, 326, 329, 502, 503, R1",
        "StopNo": 59339,
        "WheelchairAccess": 1
       },
       {
        "AtStreet": "BAY 1",
        "BayNo": "1",
        "City": "SURREY",
        "Distance": 473,
        "Latitude": 49.183201,
        "Longitude": -122.845706,
        "Name": "KING GEORGE STN BAY 1     ",
        "OnStreet": "KING GEORGE STN",
        "Routes": "314, 321, 326, 329, R1",
        "StopNo": 54996,
        "WheelchairAccess": 1
       },
       {
        "AtStreet": "KING GEORGE STN",
        "BayNo": "N",
        "City": "SURREY",
        "Distance": 490,
        "Latitude": 49.182755,
        "Longitude": -122.844744,
        "Name": "KING GEORGE STATION PLATFORM 2",
        "OnStreet": "SKYTRAIN",
        "Routes": "",
        "StopNo": 57983,
        "WheelchairAccess": 0
       },
       {
        "AtStreet": "98 AVE",
        "BayNo": "N",
        "City": "SURREY",
        "Distance": 491,
        "Latitude": 49.181077,
        "Longitude": -122.856552,
        "Name": "NB 132 ST NS 98 AVE",
        "OnStreet": "132 ST",
        "Routes": "324",
        "StopNo": 55665,
        "WheelchairAccess": 1
       },
       {
        "AtStreet": "98 AVE",
        "BayNo": "N",
        "City": "SURREY",
        "Distance": 496,
        "Latitude": 49.180401,
        "Longitude": -122.856803,
        "Name": "SB 132 ST FS 98 AVE",
        "OnStreet": "132 ST",
        "Routes": "324",
        "StopNo": 55669,
        "WheelchairAccess": 0
       },
       {
        "AtStreet": "BAY 2",
        "BayNo": "2",
        "City": "SURREY",
        "Distance": 496,
        "Latitude": 49.183124,
        "Longitude": -122.845136,
        "Name": "KING GEORGE STN BAY 2",
        "OnStreet": "KING GEORGE STN",
        "Routes": "345, 394",
        "StopNo": 54990,
        "WheelchairAccess": 1
       },
       {
        "AtStreet": "KING GEORGE STN",
        "BayNo": "N",
        "City": "SURREY",
        "Distance": 497,
        "Latitude": 49.182812,
        "Longitude": -122.844691,
        "Name": "KING GEORGE STATION PLATFORM 1",
        "OnStreet": "SKYTRAIN",
        "Routes": "",
        "StopNo": 57984,
        "WheelchairAccess": 0
       }
      ],
      "text/plain": [
       "<IPython.core.display.JSON object>"
      ]
     },
     "execution_count": 40,
     "metadata": {
      "application/json": {
       "expanded": false,
       "root": "root"
      }
     },
     "output_type": "execute_result"
    }
   ],
   "source": [
    "# Example 3, but using the 'params' argument to specify the parameters\n",
    "api_endpoint = 'https://api.translink.ca/rttiapi/v1/stops'\n",
    "response = requests.get(api_endpoint, \n",
    "                        params={'apikey': apikey, 'lat': 49.18, 'long': -122.85},\n",
    "                        headers={'accept': 'application/JSON'}).json()\n",
    "JSON(response)"
   ]
  },
  {
   "cell_type": "code",
   "execution_count": null,
   "metadata": {},
   "outputs": [],
   "source": []
  }
 ],
 "metadata": {
  "kernelspec": {
   "display_name": "Python 3",
   "language": "python",
   "name": "python3"
  },
  "language_info": {
   "codemirror_mode": {
    "name": "ipython",
    "version": 3
   },
   "file_extension": ".py",
   "mimetype": "text/x-python",
   "name": "python",
   "nbconvert_exporter": "python",
   "pygments_lexer": "ipython3",
   "version": "3.7.9"
  }
 },
 "nbformat": 4,
 "nbformat_minor": 4
}
