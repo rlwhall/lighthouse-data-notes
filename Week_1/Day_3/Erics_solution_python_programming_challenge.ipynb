{
 "cells": [
  {
   "cell_type": "markdown",
   "metadata": {},
   "source": [
    "## Poker Hand\n",
    "\n",
    "In this challenge, we have to find out which kind of Poker combination is present in a deck of 5 cards.Every card is a string containing the card value (with the upper-case initial for face-cards) and the lower-case initial for suits, as in the examples below:\n",
    "\n",
    "> \"Ah\" ➞ Ace of hearts <br>\n",
    "> \"Ks\" ➞ King of spades<br>\n",
    "> \"3d\" ➞ Three of diamonds<br>\n",
    "> \"Qc\" ➞ Queen of clubs <br>\n",
    "\n",
    "There are 10 different combinations. Here's the list, in decreasing order of importance:"
   ]
  },
  {
   "cell_type": "markdown",
   "metadata": {},
   "source": [
    "| Name            | Description                                         |\n",
    "|-----------------|-----------------------------------------------------|\n",
    "| Royal Flush     | A, K, Q, J, 10, all with the same suit.             |\n",
    "| Straight Flush  | Five cards in sequence, all with the same suit.     |\n",
    "| Four of a Kind  | Four cards of the same rank.                        |\n",
    "| Full House      | Three of a Kind with a Pair.                        |\n",
    "| Flush           | Any five cards of the same suit, not in sequence    |\n",
    "| Straight        | Five cards in a sequence, but not of the same suit. |\n",
    "| Three of a Kind | Three cards of the same rank.                       |\n",
    "| Two Pair        | Two different Pairs.                                |\n",
    "| Pair            | Two cards of the same rank.                         |\n",
    "| High Card       | No other valid combination.                         |"
   ]
  },
  {
   "cell_type": "markdown",
   "metadata": {},
   "source": [
    "### 1. Given a list `hand` containing five strings being the cards, implement a function `poker_hand_ranking` that returns a string with the name of the **highest** combination obtained, accordingly to the table above.\n",
    "\n",
    "#### Examples\n",
    "\n",
    "> poker_hand_ranking([\"10h\", \"Jh\", \"Qh\", \"Ah\", \"Kh\"]) ➞ \"Royal Flush\"<br>\n",
    "> poker_hand_ranking([\"3h\", \"5h\", \"Qs\", \"9h\", \"Ad\"]) ➞ \"High Card\"<br>\n",
    "> poker_hand_ranking([\"10s\", \"10c\", \"8d\", \"10d\", \"10h\"]) ➞ \"Four of a Kind\"<br>"
   ]
  },
  {
   "cell_type": "markdown",
   "metadata": {},
   "source": [
    "## Pseudocode\n",
    "```\n",
    "For each combination (going from best to worst):\n",
    "    If the player's hand satisfies the condition of that combination:\n",
    "        return that combination's name\n",
    "```\n",
    "\n",
    "### Considerations:\n",
    "- Every combination has it's own condition, so we can just make a unique function for each to check if it's condition is satisfied (e.g. `is_full_house(hand)`, which takes in a list of cards and outputs True/False.\n",
    "- The conditions are easier to check if we pull apart the card value and suit, and if the card value is numeric rather than a string. We can do this once before very thing else by writing a function `read_card(card)` which takes in a string value for the card and outputs a `(value, suit)` pair, and applying it to each card in the hand.\n",
    "- The conditions will be easier to check if the hand is sorted according to increasing card value. For example, checking for the straight-type hands becomes trivial, as does checking for pairs/triplets (since they will be next to each other).\n",
    "- Aces can be either 14 or 1 in the context of a straight. I'm going to just conveniently ignore this caveat :).\n",
    "\n",
    "# New pseudocode\n",
    "```\n",
    "Convert the cards in a hand to a list of (value, suit) pairs\n",
    "Sort the cards in a hand by their value\n",
    "For each combination (going from best to worst):\n",
    "    If the player's hand satisfies the condition of that combination:\n",
    "        return that combination's name\n",
    "```"
   ]
  },
  {
   "cell_type": "code",
   "execution_count": 3,
   "metadata": {},
   "outputs": [],
   "source": [
    "# Implement a function to convert a string-formatted card (e.g. \"10h\", \"Jh\", etc.) to a (value, suit) pair\n",
    "\n",
    "from collections import namedtuple\n",
    "\n",
    "Card = namedtuple('Card', ['value', 'suit'])\n",
    "\n",
    "royal_values = {'J': 11, 'Q': 12, 'K': 13, 'A': 14}\n",
    "\n",
    "def read_card(card):\n",
    "    value, suit = card[:-1], card[-1]\n",
    "    if str.isnumeric(value):\n",
    "        value = int(value)\n",
    "    else:\n",
    "        value = royal_values[value]\n",
    "    return Card(value=value, suit=suit)\n",
    "\n",
    "\n",
    "# Test the function with a couple card values\n",
    "assert read_card('10h') == (10, 'h')\n",
    "assert read_card('2c') == (2, 'c')\n",
    "assert read_card('Ad') == (14, 'd')"
   ]
  },
  {
   "cell_type": "code",
   "execution_count": 4,
   "metadata": {},
   "outputs": [],
   "source": [
    "# Implement the functions to check if a hand satisfies the combination.\n",
    "# Some of these will reuse others (e.g. to check if a hand is a Full House, we have to check if there is a Pair),\n",
    "# so let's define them in an order that makes reuse easy.\n",
    "# *Note*: Functions assume hand is sorted by card value in increasing order\n",
    "\n",
    "def is_pair(hand):\n",
    "    for i in range(len(hand) - 1):\n",
    "        card1, card2 = hand[i:i + 2]\n",
    "        if card1.value == card2.value:\n",
    "            return True\n",
    "    return False\n",
    "\n",
    "\n",
    "def is_three_of_a_kind(hand):\n",
    "    for i in range(len(hand) - 2):\n",
    "        card1, card2, card3 = hand[i:i + 3]\n",
    "        if card1.value == card2.value == card3.value:\n",
    "            return True\n",
    "    return False\n",
    "\n",
    "\n",
    "def is_four_of_a_kind(hand):\n",
    "    for i in range(len(hand) - 3):\n",
    "        card1, card2, card3, card4 = hand[i:i + 4]\n",
    "        if card1.value == card2.value == card3.value == card4.value:\n",
    "            return True\n",
    "    return False\n",
    "\n",
    "\n",
    "def is_two_pair(hand):\n",
    "    return (is_pair(hand[:2]) and is_pair(hand[2:4]) or\n",
    "           is_pair(hand[:2]) and is_pair(hand[3:]) or\n",
    "           is_pair(hand[1:3]) and is_pair(hand[3:]))\n",
    "\n",
    "\n",
    "def is_full_house(hand):\n",
    "    return (is_pair(hand[:2]) and is_three_of_a_kind(hand[2:]) or\n",
    "           is_three_of_a_kind(hand[:3]) and is_pair(hand[3:]))\n",
    "\n",
    "\n",
    "def is_straight(hand):\n",
    "    for i in range(len(hand) - 1):\n",
    "        card1, card2 = hand[i], hand[i + 1]\n",
    "        if card1.value != card2.value - 1:\n",
    "            return False\n",
    "    return True\n",
    "\n",
    "\n",
    "def is_flush(hand):\n",
    "    for card in hand[1:]:\n",
    "        if card.suit != hand[0].suit:\n",
    "            return False\n",
    "    return True\n",
    "\n",
    "\n",
    "def is_straight_flush(hand):\n",
    "    return is_flush(hand) and is_straight(hand)\n",
    "\n",
    "\n",
    "def is_royal_flush(hand):\n",
    "    return is_straight_flush(hand) and hand[0].value == 10"
   ]
  },
  {
   "cell_type": "code",
   "execution_count": 5,
   "metadata": {},
   "outputs": [],
   "source": [
    "# Now the poker hand ranking code, which works according to\n",
    "# our pseudocode (recopied here for convenience)\n",
    "\n",
    "# Convert the cards in a hand to a list of (value, suit) pairs\n",
    "# Sort the cards in a hand by their value\n",
    "# For each combination (going from best to worst):\n",
    "#     If the player's hand satisfies the condition of that combination:\n",
    "#         return that combination's name\n",
    "\n",
    "def card_value_sort_key(card):\n",
    "    return card.value\n",
    "\n",
    "\n",
    "def poker_hand_ranking(hand):\n",
    "    hand = [read_card(c) for c in hand]\n",
    "    hand = sorted(hand, key=card_value_sort_key)\n",
    "    \n",
    "    # *Note*: It is possible to loop through functions, but I don't want to \n",
    "    # do anything fancy right now. Writing out all the if statements like\n",
    "    # this is equivalent to the \"for\" loop in our pseudocode.\n",
    "    if is_royal_flush(hand):\n",
    "        return 'Royal Flush'\n",
    "    if is_straight_flush(hand):\n",
    "        return 'Straight Flush'\n",
    "    if is_four_of_a_kind(hand):\n",
    "        return 'Four of a Kind'\n",
    "    if is_full_house(hand):\n",
    "        return 'Full House'\n",
    "    if is_flush(hand):\n",
    "        return 'Flush'\n",
    "    if is_straight(hand):\n",
    "        return 'Straight'\n",
    "    if is_three_of_a_kind(hand):\n",
    "        return 'Three of a Kind'\n",
    "    if is_two_pair(hand):\n",
    "        return 'Two Pair'\n",
    "    if is_pair(hand):\n",
    "        return 'Pair'\n",
    "    return 'High Card'\n",
    "\n",
    "\n",
    "# Test the function with a couple hands\n",
    "assert poker_hand_ranking([\"10h\", \"Jh\", \"Qh\", \"Ah\", \"Kh\"]) == 'Royal Flush'\n",
    "assert poker_hand_ranking([\"3h\", \"5h\", \"Qs\", \"9h\", \"Ad\"]) == 'High Card'\n",
    "assert poker_hand_ranking([\"10s\", \"10c\", \"8d\", \"10d\", \"10h\"]) == 'Four of a Kind'"
   ]
  },
  {
   "cell_type": "markdown",
   "metadata": {},
   "source": [
    "# **Stretch Content**\n",
    "\n",
    "### 2.  Implement a function `winner_is` that returns the winner given a dictionary with different players and their hands. For example:\n",
    "\n",
    "#### Example\n",
    "\n",
    "We define dictionary like\n",
    "```\n",
    "round_1 = {\"John\" = [\"10h\", \"Jh\", \"Qh\", \"Ah\", \"Kh\"], \n",
    "        \"Peter\" = [\"3h\", \"5h\", \"Qs\", \"9h\", \"Ad\"]\n",
    "}\n",
    "```\n",
    "\n",
    "Our function returns the name of the winner:\n",
    "> winner_is(round_1) -> \"John\"\n",
    "\n",
    "One table can have up to 10 players.\n"
   ]
  },
  {
   "cell_type": "markdown",
   "metadata": {},
   "source": [
    "## Pseudocode\n",
    "```\n",
    "Set the best score found so far to 0\n",
    "Set the winner so far to nobody\n",
    "For every player and their hand:\n",
    "    Get the combination of the player's hand (using the poker_hand_ranking function)\n",
    "    Map the combination to a numeric score so that we can do comparisons\n",
    "    If the player's combination gives a higher score than the best found so far:\n",
    "        Update the best score found so far to that of the player's combination\n",
    "        Update the winner so far to be this player\n",
    "return the winner\n",
    "```"
   ]
  },
  {
   "cell_type": "code",
   "execution_count": 12,
   "metadata": {},
   "outputs": [
    {
     "data": {
      "text/plain": [
       "['John', 'Peter']"
      ]
     },
     "execution_count": 12,
     "metadata": {},
     "output_type": "execute_result"
    }
   ],
   "source": [
    "combination_score = {'High Card': 1, 'Pair': 2, 'Two Pair': 3, 'Three of a Kind': 4,\n",
    "                    'Straight': 5, 'Flush': 6, 'Full House': 7, 'Four of a Kind': 8,\n",
    "                    'Straight Flush': 9, 'Royal Flush': 10}\n",
    "\n",
    "\n",
    "def winner_is(poker_round):\n",
    "    best_score = 0\n",
    "    winners = []\n",
    "    for player, hand in poker_round.items():\n",
    "        combination = poker_hand_ranking(hand)\n",
    "        score = combination_score[combination]\n",
    "        if score == best_score:\n",
    "            winners.append(player)\n",
    "        elif score > best_score:\n",
    "            best_score = score\n",
    "            winners = [player]\n",
    "    return winners\n",
    "\n",
    "\n",
    "# Test the function\n",
    "round_1 = {\"John\": [\"10h\", \"Jh\", \"Qh\", \"Ah\", \"Kh\"], \n",
    "           \"Peter\": [\"10h\", \"Jh\", \"Qh\", \"Ah\", \"Kh\"]}\n",
    "winner_is(round_1)"
   ]
  },
  {
   "cell_type": "markdown",
   "metadata": {},
   "source": [
    "### 3. Create a generator that randomly gives 5 cards to every player given a list of player names\n",
    "#### Example\n",
    "\n",
    "> distribute_cards([\"John\",\"Peter\"])  -> round_1 = {\"John\" = [\"10h\", \"Jh\", \"Qh\", \"Ah\", \"Kh\"], \n",
    "        \"Peter\" = [\"3h\", \"5h\", \"Qs\", \"9h\", \"Ad\"]\n",
    "}"
   ]
  },
  {
   "cell_type": "markdown",
   "metadata": {},
   "source": [
    "## Pseudocode\n",
    "```\n",
    "Make a list of all the cards in a deck\n",
    "Shuffle the card list\n",
    "For each player in the round:\n",
    "    Remove the last 5 cards from the list and assign them to be the player's hand\n",
    "return every player with their corresponding hands\n",
    "```"
   ]
  },
  {
   "cell_type": "code",
   "execution_count": 14,
   "metadata": {},
   "outputs": [
    {
     "data": {
      "text/plain": [
       "{'Eric': ['Kc', '5h', '5s', '10c', '6c'],\n",
       " 'Lynxi': ['2d', 'Ac', '10d', '3s', '8s']}"
      ]
     },
     "execution_count": 14,
     "metadata": {},
     "output_type": "execute_result"
    }
   ],
   "source": [
    "import random\n",
    "\n",
    "\n",
    "def distribute_cards(players):\n",
    "    card_values = [str(i) for i in range(2, 11)] + ['J', 'Q', 'K', 'A']\n",
    "    deck = [c + 'h' for c in card_values] + \\\n",
    "            [c + 's' for c in card_values] + \\\n",
    "            [c + 'd' for c in card_values] + \\\n",
    "            [c + 'c' for c in card_values]\n",
    "    random.shuffle(deck)\n",
    "    \n",
    "    poker_round = {}\n",
    "    for player in players:\n",
    "        hand = [deck.pop() for _ in range(5)]\n",
    "        poker_round[player] = hand\n",
    "        \n",
    "    return poker_round\n",
    "\n",
    "\n",
    "# Test out the function\n",
    "distribute_cards(['Eric', 'Lynxi'])"
   ]
  },
  {
   "cell_type": "code",
   "execution_count": null,
   "metadata": {},
   "outputs": [],
   "source": []
  }
 ],
 "metadata": {
  "kernelspec": {
   "display_name": "Python 3",
   "language": "python",
   "name": "python3"
  },
  "language_info": {
   "codemirror_mode": {
    "name": "ipython",
    "version": 3
   },
   "file_extension": ".py",
   "mimetype": "text/x-python",
   "name": "python",
   "nbconvert_exporter": "python",
   "pygments_lexer": "ipython3",
   "version": "3.7.9"
  }
 },
 "nbformat": 4,
 "nbformat_minor": 4
}
