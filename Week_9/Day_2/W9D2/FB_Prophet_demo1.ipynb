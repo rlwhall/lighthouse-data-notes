{
  "nbformat": 4,
  "nbformat_minor": 0,
  "metadata": {
    "kernelspec": {
      "display_name": "Python 3",
      "language": "python",
      "name": "python3"
    },
    "language_info": {
      "codemirror_mode": {
        "name": "ipython",
        "version": 3
      },
      "file_extension": ".py",
      "mimetype": "text/x-python",
      "name": "python",
      "nbconvert_exporter": "python",
      "pygments_lexer": "ipython3",
      "version": "3.7.9"
    },
    "colab": {
      "name": "FB Prophet- demo1.ipynb",
      "provenance": []
    },
    "widgets": {
      "application/vnd.jupyter.widget-state+json": {
        "135d456d95c74813a539f17d05a983cf": {
          "model_module": "@jupyter-widgets/controls",
          "model_name": "HBoxModel",
          "state": {
            "_view_name": "HBoxView",
            "_dom_classes": [],
            "_model_name": "HBoxModel",
            "_view_module": "@jupyter-widgets/controls",
            "_model_module_version": "1.5.0",
            "_view_count": null,
            "_view_module_version": "1.5.0",
            "box_style": "",
            "layout": "IPY_MODEL_d64a0ef8fb9348979adbf8a65291e4d0",
            "_model_module": "@jupyter-widgets/controls",
            "children": [
              "IPY_MODEL_3c09e2116ad342b2829c074d31d1063b",
              "IPY_MODEL_1256fdceca4c4b5da8e7a237236df5a8"
            ]
          }
        },
        "d64a0ef8fb9348979adbf8a65291e4d0": {
          "model_module": "@jupyter-widgets/base",
          "model_name": "LayoutModel",
          "state": {
            "_view_name": "LayoutView",
            "grid_template_rows": null,
            "right": null,
            "justify_content": null,
            "_view_module": "@jupyter-widgets/base",
            "overflow": null,
            "_model_module_version": "1.2.0",
            "_view_count": null,
            "flex_flow": null,
            "width": null,
            "min_width": null,
            "border": null,
            "align_items": null,
            "bottom": null,
            "_model_module": "@jupyter-widgets/base",
            "top": null,
            "grid_column": null,
            "overflow_y": null,
            "overflow_x": null,
            "grid_auto_flow": null,
            "grid_area": null,
            "grid_template_columns": null,
            "flex": null,
            "_model_name": "LayoutModel",
            "justify_items": null,
            "grid_row": null,
            "max_height": null,
            "align_content": null,
            "visibility": null,
            "align_self": null,
            "height": null,
            "min_height": null,
            "padding": null,
            "grid_auto_rows": null,
            "grid_gap": null,
            "max_width": null,
            "order": null,
            "_view_module_version": "1.2.0",
            "grid_template_areas": null,
            "object_position": null,
            "object_fit": null,
            "grid_auto_columns": null,
            "margin": null,
            "display": null,
            "left": null
          }
        },
        "3c09e2116ad342b2829c074d31d1063b": {
          "model_module": "@jupyter-widgets/controls",
          "model_name": "FloatProgressModel",
          "state": {
            "_view_name": "ProgressView",
            "style": "IPY_MODEL_e3e81cbf9a934d30a0efbcf07b650795",
            "_dom_classes": [],
            "description": "100%",
            "_model_name": "FloatProgressModel",
            "bar_style": "success",
            "max": 4,
            "_view_module": "@jupyter-widgets/controls",
            "_model_module_version": "1.5.0",
            "value": 4,
            "_view_count": null,
            "_view_module_version": "1.5.0",
            "orientation": "horizontal",
            "min": 0,
            "description_tooltip": null,
            "_model_module": "@jupyter-widgets/controls",
            "layout": "IPY_MODEL_11648bf559ac42fa9d61d888667074f9"
          }
        },
        "1256fdceca4c4b5da8e7a237236df5a8": {
          "model_module": "@jupyter-widgets/controls",
          "model_name": "HTMLModel",
          "state": {
            "_view_name": "HTMLView",
            "style": "IPY_MODEL_d20695c0bdf34537a157c6a61412bec5",
            "_dom_classes": [],
            "description": "",
            "_model_name": "HTMLModel",
            "placeholder": "​",
            "_view_module": "@jupyter-widgets/controls",
            "_model_module_version": "1.5.0",
            "value": " 4/4 [19:35&lt;00:00, 293.96s/it]",
            "_view_count": null,
            "_view_module_version": "1.5.0",
            "description_tooltip": null,
            "_model_module": "@jupyter-widgets/controls",
            "layout": "IPY_MODEL_75bf8d16c304476a8f07a28808bc3032"
          }
        },
        "e3e81cbf9a934d30a0efbcf07b650795": {
          "model_module": "@jupyter-widgets/controls",
          "model_name": "ProgressStyleModel",
          "state": {
            "_view_name": "StyleView",
            "_model_name": "ProgressStyleModel",
            "description_width": "initial",
            "_view_module": "@jupyter-widgets/base",
            "_model_module_version": "1.5.0",
            "_view_count": null,
            "_view_module_version": "1.2.0",
            "bar_color": null,
            "_model_module": "@jupyter-widgets/controls"
          }
        },
        "11648bf559ac42fa9d61d888667074f9": {
          "model_module": "@jupyter-widgets/base",
          "model_name": "LayoutModel",
          "state": {
            "_view_name": "LayoutView",
            "grid_template_rows": null,
            "right": null,
            "justify_content": null,
            "_view_module": "@jupyter-widgets/base",
            "overflow": null,
            "_model_module_version": "1.2.0",
            "_view_count": null,
            "flex_flow": null,
            "width": null,
            "min_width": null,
            "border": null,
            "align_items": null,
            "bottom": null,
            "_model_module": "@jupyter-widgets/base",
            "top": null,
            "grid_column": null,
            "overflow_y": null,
            "overflow_x": null,
            "grid_auto_flow": null,
            "grid_area": null,
            "grid_template_columns": null,
            "flex": null,
            "_model_name": "LayoutModel",
            "justify_items": null,
            "grid_row": null,
            "max_height": null,
            "align_content": null,
            "visibility": null,
            "align_self": null,
            "height": null,
            "min_height": null,
            "padding": null,
            "grid_auto_rows": null,
            "grid_gap": null,
            "max_width": null,
            "order": null,
            "_view_module_version": "1.2.0",
            "grid_template_areas": null,
            "object_position": null,
            "object_fit": null,
            "grid_auto_columns": null,
            "margin": null,
            "display": null,
            "left": null
          }
        },
        "d20695c0bdf34537a157c6a61412bec5": {
          "model_module": "@jupyter-widgets/controls",
          "model_name": "DescriptionStyleModel",
          "state": {
            "_view_name": "StyleView",
            "_model_name": "DescriptionStyleModel",
            "description_width": "",
            "_view_module": "@jupyter-widgets/base",
            "_model_module_version": "1.5.0",
            "_view_count": null,
            "_view_module_version": "1.2.0",
            "_model_module": "@jupyter-widgets/controls"
          }
        },
        "75bf8d16c304476a8f07a28808bc3032": {
          "model_module": "@jupyter-widgets/base",
          "model_name": "LayoutModel",
          "state": {
            "_view_name": "LayoutView",
            "grid_template_rows": null,
            "right": null,
            "justify_content": null,
            "_view_module": "@jupyter-widgets/base",
            "overflow": null,
            "_model_module_version": "1.2.0",
            "_view_count": null,
            "flex_flow": null,
            "width": null,
            "min_width": null,
            "border": null,
            "align_items": null,
            "bottom": null,
            "_model_module": "@jupyter-widgets/base",
            "top": null,
            "grid_column": null,
            "overflow_y": null,
            "overflow_x": null,
            "grid_auto_flow": null,
            "grid_area": null,
            "grid_template_columns": null,
            "flex": null,
            "_model_name": "LayoutModel",
            "justify_items": null,
            "grid_row": null,
            "max_height": null,
            "align_content": null,
            "visibility": null,
            "align_self": null,
            "height": null,
            "min_height": null,
            "padding": null,
            "grid_auto_rows": null,
            "grid_gap": null,
            "max_width": null,
            "order": null,
            "_view_module_version": "1.2.0",
            "grid_template_areas": null,
            "object_position": null,
            "object_fit": null,
            "grid_auto_columns": null,
            "margin": null,
            "display": null,
            "left": null
          }
        },
        "ed6240f75b9d46179794e659ef0ac02f": {
          "model_module": "@jupyter-widgets/controls",
          "model_name": "HBoxModel",
          "state": {
            "_view_name": "HBoxView",
            "_dom_classes": [],
            "_model_name": "HBoxModel",
            "_view_module": "@jupyter-widgets/controls",
            "_model_module_version": "1.5.0",
            "_view_count": null,
            "_view_module_version": "1.5.0",
            "box_style": "",
            "layout": "IPY_MODEL_4715cae675e047a8b2f23bebdbe0bab3",
            "_model_module": "@jupyter-widgets/controls",
            "children": [
              "IPY_MODEL_4abc95f975304adfa5647cf6bdcca1bc",
              "IPY_MODEL_94215afb5b684639a020aa4b28b85a12"
            ]
          }
        },
        "4715cae675e047a8b2f23bebdbe0bab3": {
          "model_module": "@jupyter-widgets/base",
          "model_name": "LayoutModel",
          "state": {
            "_view_name": "LayoutView",
            "grid_template_rows": null,
            "right": null,
            "justify_content": null,
            "_view_module": "@jupyter-widgets/base",
            "overflow": null,
            "_model_module_version": "1.2.0",
            "_view_count": null,
            "flex_flow": null,
            "width": null,
            "min_width": null,
            "border": null,
            "align_items": null,
            "bottom": null,
            "_model_module": "@jupyter-widgets/base",
            "top": null,
            "grid_column": null,
            "overflow_y": null,
            "overflow_x": null,
            "grid_auto_flow": null,
            "grid_area": null,
            "grid_template_columns": null,
            "flex": null,
            "_model_name": "LayoutModel",
            "justify_items": null,
            "grid_row": null,
            "max_height": null,
            "align_content": null,
            "visibility": null,
            "align_self": null,
            "height": null,
            "min_height": null,
            "padding": null,
            "grid_auto_rows": null,
            "grid_gap": null,
            "max_width": null,
            "order": null,
            "_view_module_version": "1.2.0",
            "grid_template_areas": null,
            "object_position": null,
            "object_fit": null,
            "grid_auto_columns": null,
            "margin": null,
            "display": null,
            "left": null
          }
        },
        "4abc95f975304adfa5647cf6bdcca1bc": {
          "model_module": "@jupyter-widgets/controls",
          "model_name": "FloatProgressModel",
          "state": {
            "_view_name": "ProgressView",
            "style": "IPY_MODEL_630881e9925049c896c3df1d3f268297",
            "_dom_classes": [],
            "description": "100%",
            "_model_name": "FloatProgressModel",
            "bar_style": "success",
            "max": 4,
            "_view_module": "@jupyter-widgets/controls",
            "_model_module_version": "1.5.0",
            "value": 4,
            "_view_count": null,
            "_view_module_version": "1.5.0",
            "orientation": "horizontal",
            "min": 0,
            "description_tooltip": null,
            "_model_module": "@jupyter-widgets/controls",
            "layout": "IPY_MODEL_7f8adebb431c4776ab246393af757314"
          }
        },
        "94215afb5b684639a020aa4b28b85a12": {
          "model_module": "@jupyter-widgets/controls",
          "model_name": "HTMLModel",
          "state": {
            "_view_name": "HTMLView",
            "style": "IPY_MODEL_71e258cada7a495d9e947e38af8e2c46",
            "_dom_classes": [],
            "description": "",
            "_model_name": "HTMLModel",
            "placeholder": "​",
            "_view_module": "@jupyter-widgets/controls",
            "_model_module_version": "1.5.0",
            "value": " 4/4 [00:30&lt;00:00,  7.61s/it]",
            "_view_count": null,
            "_view_module_version": "1.5.0",
            "description_tooltip": null,
            "_model_module": "@jupyter-widgets/controls",
            "layout": "IPY_MODEL_8ffd740ad10e4d3ea29e999de7643eec"
          }
        },
        "630881e9925049c896c3df1d3f268297": {
          "model_module": "@jupyter-widgets/controls",
          "model_name": "ProgressStyleModel",
          "state": {
            "_view_name": "StyleView",
            "_model_name": "ProgressStyleModel",
            "description_width": "initial",
            "_view_module": "@jupyter-widgets/base",
            "_model_module_version": "1.5.0",
            "_view_count": null,
            "_view_module_version": "1.2.0",
            "bar_color": null,
            "_model_module": "@jupyter-widgets/controls"
          }
        },
        "7f8adebb431c4776ab246393af757314": {
          "model_module": "@jupyter-widgets/base",
          "model_name": "LayoutModel",
          "state": {
            "_view_name": "LayoutView",
            "grid_template_rows": null,
            "right": null,
            "justify_content": null,
            "_view_module": "@jupyter-widgets/base",
            "overflow": null,
            "_model_module_version": "1.2.0",
            "_view_count": null,
            "flex_flow": null,
            "width": null,
            "min_width": null,
            "border": null,
            "align_items": null,
            "bottom": null,
            "_model_module": "@jupyter-widgets/base",
            "top": null,
            "grid_column": null,
            "overflow_y": null,
            "overflow_x": null,
            "grid_auto_flow": null,
            "grid_area": null,
            "grid_template_columns": null,
            "flex": null,
            "_model_name": "LayoutModel",
            "justify_items": null,
            "grid_row": null,
            "max_height": null,
            "align_content": null,
            "visibility": null,
            "align_self": null,
            "height": null,
            "min_height": null,
            "padding": null,
            "grid_auto_rows": null,
            "grid_gap": null,
            "max_width": null,
            "order": null,
            "_view_module_version": "1.2.0",
            "grid_template_areas": null,
            "object_position": null,
            "object_fit": null,
            "grid_auto_columns": null,
            "margin": null,
            "display": null,
            "left": null
          }
        },
        "71e258cada7a495d9e947e38af8e2c46": {
          "model_module": "@jupyter-widgets/controls",
          "model_name": "DescriptionStyleModel",
          "state": {
            "_view_name": "StyleView",
            "_model_name": "DescriptionStyleModel",
            "description_width": "",
            "_view_module": "@jupyter-widgets/base",
            "_model_module_version": "1.5.0",
            "_view_count": null,
            "_view_module_version": "1.2.0",
            "_model_module": "@jupyter-widgets/controls"
          }
        },
        "8ffd740ad10e4d3ea29e999de7643eec": {
          "model_module": "@jupyter-widgets/base",
          "model_name": "LayoutModel",
          "state": {
            "_view_name": "LayoutView",
            "grid_template_rows": null,
            "right": null,
            "justify_content": null,
            "_view_module": "@jupyter-widgets/base",
            "overflow": null,
            "_model_module_version": "1.2.0",
            "_view_count": null,
            "flex_flow": null,
            "width": null,
            "min_width": null,
            "border": null,
            "align_items": null,
            "bottom": null,
            "_model_module": "@jupyter-widgets/base",
            "top": null,
            "grid_column": null,
            "overflow_y": null,
            "overflow_x": null,
            "grid_auto_flow": null,
            "grid_area": null,
            "grid_template_columns": null,
            "flex": null,
            "_model_name": "LayoutModel",
            "justify_items": null,
            "grid_row": null,
            "max_height": null,
            "align_content": null,
            "visibility": null,
            "align_self": null,
            "height": null,
            "min_height": null,
            "padding": null,
            "grid_auto_rows": null,
            "grid_gap": null,
            "max_width": null,
            "order": null,
            "_view_module_version": "1.2.0",
            "grid_template_areas": null,
            "object_position": null,
            "object_fit": null,
            "grid_auto_columns": null,
            "margin": null,
            "display": null,
            "left": null
          }
        }
      }
    }
  },
  "cells": [
    {
      "cell_type": "markdown",
      "metadata": {
        "id": "eJ0f9IO3PD3l",
        "colab_type": "text"
      },
      "source": [
        "### FB Prophet\n",
        "A powerful package by Facebook to perform time series analysis"
      ]
    },
    {
      "cell_type": "code",
      "metadata": {
        "id": "Gwav_xuOPD3l",
        "colab_type": "code",
        "colab": {}
      },
      "source": [
        "# Load EDA Pkgs\n",
        "import pandas as pd\n",
        "import matplotlib.pyplot as plt\n",
        "%matplotlib inline"
      ],
      "execution_count": 19,
      "outputs": []
    },
    {
      "cell_type": "code",
      "metadata": {
        "id": "TPpj_DbuPD3p",
        "colab_type": "code",
        "colab": {
          "resources": {
            "http://localhost:8080/nbextensions/google.colab/files.js": {
              "data": "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",
              "ok": true,
              "headers": [
                [
                  "content-type",
                  "application/javascript"
                ]
              ],
              "status": 200,
              "status_text": ""
            }
          },
          "base_uri": "https://localhost:8080/",
          "height": 73
        },
        "outputId": "0a0ef575-06e6-4b03-d406-2d39c2cf8d56"
      },
      "source": [
        "from google.colab import files\n",
        "data_to_load = files.upload()"
      ],
      "execution_count": 1,
      "outputs": [
        {
          "output_type": "display_data",
          "data": {
            "text/html": [
              "\n",
              "     <input type=\"file\" id=\"files-c8fbad01-6916-4745-924d-9d30d2322768\" name=\"files[]\" multiple disabled\n",
              "        style=\"border:none\" />\n",
              "     <output id=\"result-c8fbad01-6916-4745-924d-9d30d2322768\">\n",
              "      Upload widget is only available when the cell has been executed in the\n",
              "      current browser session. Please rerun this cell to enable.\n",
              "      </output>\n",
              "      <script src=\"/nbextensions/google.colab/files.js\"></script> "
            ],
            "text/plain": [
              "<IPython.core.display.HTML object>"
            ]
          },
          "metadata": {
            "tags": []
          }
        },
        {
          "output_type": "stream",
          "text": [
            "Saving flights.csv to flights.csv\n"
          ],
          "name": "stdout"
        }
      ]
    },
    {
      "cell_type": "code",
      "metadata": {
        "id": "E7Pnu4c9PD3s",
        "colab_type": "code",
        "colab": {}
      },
      "source": [
        "# Load Our Dataset\n",
        "df = pd.read_csv(\"./flights.csv\")"
      ],
      "execution_count": 16,
      "outputs": []
    },
    {
      "cell_type": "code",
      "metadata": {
        "id": "B8q0Mu8YPD3u",
        "colab_type": "code",
        "colab": {
          "base_uri": "https://localhost:8080/",
          "height": 195
        },
        "outputId": "4735f59e-bab9-44bb-d21b-d9b0ea341a1c"
      },
      "source": [
        "df.head()"
      ],
      "execution_count": 17,
      "outputs": [
        {
          "output_type": "execute_result",
          "data": {
            "text/html": [
              "<div>\n",
              "<style scoped>\n",
              "    .dataframe tbody tr th:only-of-type {\n",
              "        vertical-align: middle;\n",
              "    }\n",
              "\n",
              "    .dataframe tbody tr th {\n",
              "        vertical-align: top;\n",
              "    }\n",
              "\n",
              "    .dataframe thead th {\n",
              "        text-align: right;\n",
              "    }\n",
              "</style>\n",
              "<table border=\"1\" class=\"dataframe\">\n",
              "  <thead>\n",
              "    <tr style=\"text-align: right;\">\n",
              "      <th></th>\n",
              "      <th>Dates</th>\n",
              "      <th>no_of_flights</th>\n",
              "    </tr>\n",
              "  </thead>\n",
              "  <tbody>\n",
              "    <tr>\n",
              "      <th>0</th>\n",
              "      <td>2005-01-01</td>\n",
              "      <td>594924</td>\n",
              "    </tr>\n",
              "    <tr>\n",
              "      <th>1</th>\n",
              "      <td>2005-02-01</td>\n",
              "      <td>545332</td>\n",
              "    </tr>\n",
              "    <tr>\n",
              "      <th>2</th>\n",
              "      <td>2005-03-01</td>\n",
              "      <td>617540</td>\n",
              "    </tr>\n",
              "    <tr>\n",
              "      <th>3</th>\n",
              "      <td>2005-04-01</td>\n",
              "      <td>594492</td>\n",
              "    </tr>\n",
              "    <tr>\n",
              "      <th>4</th>\n",
              "      <td>2005-05-01</td>\n",
              "      <td>614802</td>\n",
              "    </tr>\n",
              "  </tbody>\n",
              "</table>\n",
              "</div>"
            ],
            "text/plain": [
              "        Dates  no_of_flights\n",
              "0  2005-01-01         594924\n",
              "1  2005-02-01         545332\n",
              "2  2005-03-01         617540\n",
              "3  2005-04-01         594492\n",
              "4  2005-05-01         614802"
            ]
          },
          "metadata": {
            "tags": []
          },
          "execution_count": 17
        }
      ]
    },
    {
      "cell_type": "code",
      "metadata": {
        "id": "CuOKLb_7PYsd",
        "colab_type": "code",
        "colab": {
          "base_uri": "https://localhost:8080/",
          "height": 218
        },
        "outputId": "140286d8-c63f-4a95-f231-117a665d3295"
      },
      "source": [
        "!pip install pandas_profiling"
      ],
      "execution_count": 8,
      "outputs": [
        {
          "output_type": "stream",
          "text": [
            "Requirement already satisfied: pandas_profiling in /usr/local/lib/python3.6/dist-packages (1.4.1)\n",
            "Requirement already satisfied: jinja2>=2.8 in /usr/local/lib/python3.6/dist-packages (from pandas_profiling) (2.11.2)\n",
            "Requirement already satisfied: pandas>=0.19 in /usr/local/lib/python3.6/dist-packages (from pandas_profiling) (1.0.5)\n",
            "Requirement already satisfied: matplotlib>=1.4 in /usr/local/lib/python3.6/dist-packages (from pandas_profiling) (3.2.2)\n",
            "Requirement already satisfied: six>=1.9 in /usr/local/lib/python3.6/dist-packages (from pandas_profiling) (1.15.0)\n",
            "Requirement already satisfied: MarkupSafe>=0.23 in /usr/local/lib/python3.6/dist-packages (from jinja2>=2.8->pandas_profiling) (1.1.1)\n",
            "Requirement already satisfied: pytz>=2017.2 in /usr/local/lib/python3.6/dist-packages (from pandas>=0.19->pandas_profiling) (2018.9)\n",
            "Requirement already satisfied: python-dateutil>=2.6.1 in /usr/local/lib/python3.6/dist-packages (from pandas>=0.19->pandas_profiling) (2.8.1)\n",
            "Requirement already satisfied: numpy>=1.13.3 in /usr/local/lib/python3.6/dist-packages (from pandas>=0.19->pandas_profiling) (1.18.5)\n",
            "Requirement already satisfied: cycler>=0.10 in /usr/local/lib/python3.6/dist-packages (from matplotlib>=1.4->pandas_profiling) (0.10.0)\n",
            "Requirement already satisfied: kiwisolver>=1.0.1 in /usr/local/lib/python3.6/dist-packages (from matplotlib>=1.4->pandas_profiling) (1.2.0)\n",
            "Requirement already satisfied: pyparsing!=2.0.4,!=2.1.2,!=2.1.6,>=2.0.1 in /usr/local/lib/python3.6/dist-packages (from matplotlib>=1.4->pandas_profiling) (2.4.7)\n"
          ],
          "name": "stdout"
        }
      ]
    },
    {
      "cell_type": "code",
      "metadata": {
        "id": "hWWQScWOPD3y",
        "colab_type": "code",
        "colab": {}
      },
      "source": [
        "# Quick Profiling\n",
        "import pandas_profiling as pp"
      ],
      "execution_count": 9,
      "outputs": []
    },
    {
      "cell_type": "code",
      "metadata": {
        "id": "HUG8gDJ-PD30",
        "colab_type": "code",
        "colab": {
          "base_uri": "https://localhost:8080/",
          "height": 354
        },
        "outputId": "8f0cd13c-2961-4b02-a006-773caa7c2116"
      },
      "source": [
        "\n",
        "# Generate A Profile Report\n",
        "pp.ProfileReport(df)"
      ],
      "execution_count": 10,
      "outputs": [
        {
          "output_type": "error",
          "ename": "TypeError",
          "evalue": "ignored",
          "traceback": [
            "\u001b[0;31m---------------------------------------------------------------------------\u001b[0m",
            "\u001b[0;31mTypeError\u001b[0m                                 Traceback (most recent call last)",
            "\u001b[0;32m<ipython-input-10-01e63252cfd6>\u001b[0m in \u001b[0;36m<module>\u001b[0;34m()\u001b[0m\n\u001b[1;32m      1\u001b[0m \u001b[0;34m\u001b[0m\u001b[0m\n\u001b[1;32m      2\u001b[0m \u001b[0;31m# Generate A Profile Report\u001b[0m\u001b[0;34m\u001b[0m\u001b[0;34m\u001b[0m\u001b[0;34m\u001b[0m\u001b[0m\n\u001b[0;32m----> 3\u001b[0;31m \u001b[0mpp\u001b[0m\u001b[0;34m.\u001b[0m\u001b[0mProfileReport\u001b[0m\u001b[0;34m(\u001b[0m\u001b[0mdf\u001b[0m\u001b[0;34m)\u001b[0m\u001b[0;34m\u001b[0m\u001b[0;34m\u001b[0m\u001b[0m\n\u001b[0m",
            "\u001b[0;32m/usr/local/lib/python3.6/dist-packages/pandas_profiling/__init__.py\u001b[0m in \u001b[0;36m__init__\u001b[0;34m(self, df, **kwargs)\u001b[0m\n\u001b[1;32m     64\u001b[0m         \u001b[0msample\u001b[0m \u001b[0;34m=\u001b[0m \u001b[0mkwargs\u001b[0m\u001b[0;34m.\u001b[0m\u001b[0mget\u001b[0m\u001b[0;34m(\u001b[0m\u001b[0;34m'sample'\u001b[0m\u001b[0;34m,\u001b[0m \u001b[0mdf\u001b[0m\u001b[0;34m.\u001b[0m\u001b[0mhead\u001b[0m\u001b[0;34m(\u001b[0m\u001b[0;34m)\u001b[0m\u001b[0;34m)\u001b[0m\u001b[0;34m\u001b[0m\u001b[0;34m\u001b[0m\u001b[0m\n\u001b[1;32m     65\u001b[0m \u001b[0;34m\u001b[0m\u001b[0m\n\u001b[0;32m---> 66\u001b[0;31m         \u001b[0mdescription_set\u001b[0m \u001b[0;34m=\u001b[0m \u001b[0mdescribe\u001b[0m\u001b[0;34m(\u001b[0m\u001b[0mdf\u001b[0m\u001b[0;34m,\u001b[0m \u001b[0;34m**\u001b[0m\u001b[0mkwargs\u001b[0m\u001b[0;34m)\u001b[0m\u001b[0;34m\u001b[0m\u001b[0;34m\u001b[0m\u001b[0m\n\u001b[0m\u001b[1;32m     67\u001b[0m \u001b[0;34m\u001b[0m\u001b[0m\n\u001b[1;32m     68\u001b[0m         self.html = to_html(sample,\n",
            "\u001b[0;32m/usr/local/lib/python3.6/dist-packages/pandas_profiling/describe.py\u001b[0m in \u001b[0;36mdescribe\u001b[0;34m(df, bins, check_correlation, correlation_threshold, correlation_overrides, check_recoded, pool_size, **kwargs)\u001b[0m\n\u001b[1;32m    390\u001b[0m             \u001b[0;32mif\u001b[0m \u001b[0mname\u001b[0m \u001b[0;32mnot\u001b[0m \u001b[0;32min\u001b[0m \u001b[0mnames\u001b[0m\u001b[0;34m:\u001b[0m\u001b[0;34m\u001b[0m\u001b[0;34m\u001b[0m\u001b[0m\n\u001b[1;32m    391\u001b[0m                 \u001b[0mnames\u001b[0m\u001b[0;34m.\u001b[0m\u001b[0mappend\u001b[0m\u001b[0;34m(\u001b[0m\u001b[0mname\u001b[0m\u001b[0;34m)\u001b[0m\u001b[0;34m\u001b[0m\u001b[0;34m\u001b[0m\u001b[0m\n\u001b[0;32m--> 392\u001b[0;31m     \u001b[0mvariable_stats\u001b[0m \u001b[0;34m=\u001b[0m \u001b[0mpd\u001b[0m\u001b[0;34m.\u001b[0m\u001b[0mconcat\u001b[0m\u001b[0;34m(\u001b[0m\u001b[0mldesc\u001b[0m\u001b[0;34m,\u001b[0m \u001b[0mjoin_axes\u001b[0m\u001b[0;34m=\u001b[0m\u001b[0mpd\u001b[0m\u001b[0;34m.\u001b[0m\u001b[0mIndex\u001b[0m\u001b[0;34m(\u001b[0m\u001b[0;34m[\u001b[0m\u001b[0mnames\u001b[0m\u001b[0;34m]\u001b[0m\u001b[0;34m)\u001b[0m\u001b[0;34m,\u001b[0m \u001b[0maxis\u001b[0m\u001b[0;34m=\u001b[0m\u001b[0;36m1\u001b[0m\u001b[0;34m)\u001b[0m\u001b[0;34m\u001b[0m\u001b[0;34m\u001b[0m\u001b[0m\n\u001b[0m\u001b[1;32m    393\u001b[0m     \u001b[0mvariable_stats\u001b[0m\u001b[0;34m.\u001b[0m\u001b[0mcolumns\u001b[0m\u001b[0;34m.\u001b[0m\u001b[0mnames\u001b[0m \u001b[0;34m=\u001b[0m \u001b[0mdf\u001b[0m\u001b[0;34m.\u001b[0m\u001b[0mcolumns\u001b[0m\u001b[0;34m.\u001b[0m\u001b[0mnames\u001b[0m\u001b[0;34m\u001b[0m\u001b[0;34m\u001b[0m\u001b[0m\n\u001b[1;32m    394\u001b[0m \u001b[0;34m\u001b[0m\u001b[0m\n",
            "\u001b[0;31mTypeError\u001b[0m: concat() got an unexpected keyword argument 'join_axes'"
          ]
        }
      ]
    },
    {
      "cell_type": "markdown",
      "metadata": {
        "id": "Hlntb_yvPD34",
        "colab_type": "text"
      },
      "source": [
        "#### Check to See if our dataset is Stationary\n",
        "1 Visual Plot Test\n",
        "\n",
        "2 Summary of Stats\n",
        "\n",
        "3 AD Fuller Test(null)\n",
        "\n",
        "4 determine the presence of unit root in the series\n",
        "\n",
        "5 null hypothesis and alternate hypothesis\n",
        "\n",
        "6 test stats < critical value is stationary\n",
        "\n",
        "7 KPSS Test (Kwiatkowski-Phillips-Schmidt-Shin)"
      ]
    },
    {
      "cell_type": "code",
      "metadata": {
        "id": "yA_60DexPD34",
        "colab_type": "code",
        "colab": {
          "base_uri": "https://localhost:8080/",
          "height": 286
        },
        "outputId": "381d9f87-dece-458e-ca78-1ffb6cf44ca4"
      },
      "source": [
        "# Plot Test\n",
        "df.plot()\n"
      ],
      "execution_count": 20,
      "outputs": [
        {
          "output_type": "execute_result",
          "data": {
            "text/plain": [
              "<matplotlib.axes._subplots.AxesSubplot at 0x7fbd74511f60>"
            ]
          },
          "metadata": {
            "tags": []
          },
          "execution_count": 20
        },
        {
          "output_type": "display_data",
          "data": {
            "image/png": "[encoded data removed]",
            "text/plain": [
              "<Figure size 432x288 with 1 Axes>"
            ]
          },
          "metadata": {
            "tags": [],
            "needs_background": "light"
          }
        }
      ]
    },
    {
      "cell_type": "code",
      "metadata": {
        "id": "bSattjYhPD37",
        "colab_type": "code",
        "colab": {
          "base_uri": "https://localhost:8080/",
          "height": 286
        },
        "outputId": "2c44d78f-07ad-4b3d-fa22-fd8157ab07de"
      },
      "source": [
        "# Histogram\n",
        "df.plot(kind=\"hist\")"
      ],
      "execution_count": 21,
      "outputs": [
        {
          "output_type": "execute_result",
          "data": {
            "text/plain": [
              "<matplotlib.axes._subplots.AxesSubplot at 0x7fbd745241d0>"
            ]
          },
          "metadata": {
            "tags": []
          },
          "execution_count": 21
        },
        {
          "output_type": "display_data",
          "data": {
            "image/png": "[encoded data removed]",
            "text/plain": [
              "<Figure size 432x288 with 1 Axes>"
            ]
          },
          "metadata": {
            "tags": [],
            "needs_background": "light"
          }
        }
      ]
    },
    {
      "cell_type": "markdown",
      "metadata": {
        "id": "xI7979RAPD3-",
        "colab_type": "text"
      },
      "source": [
        "#### Narrative\n",
        "Not a gaussian bell curve not stationary"
      ]
    },
    {
      "cell_type": "markdown",
      "metadata": {
        "id": "d9PWlyOsPD3-",
        "colab_type": "text"
      },
      "source": [
        "### Summary Stats\n",
        "* Split\n",
        "* Find mean and variance of each"
      ]
    },
    {
      "cell_type": "code",
      "metadata": {
        "id": "fvv2jwmkPD3_",
        "colab_type": "code",
        "colab": {}
      },
      "source": [
        "\n",
        "# Create A Series\n",
        "X = df['no_of_flights'].values"
      ],
      "execution_count": 22,
      "outputs": []
    },
    {
      "cell_type": "code",
      "metadata": {
        "id": "x__k_qgIPD4B",
        "colab_type": "code",
        "colab": {
          "base_uri": "https://localhost:8080/",
          "height": 34
        },
        "outputId": "e2b556c1-2564-4c90-889b-b4926ef991ca"
      },
      "source": [
        "# Split our dataset\n",
        "len(X)/2"
      ],
      "execution_count": 23,
      "outputs": [
        {
          "output_type": "execute_result",
          "data": {
            "text/plain": [
              "18.0"
            ]
          },
          "metadata": {
            "tags": []
          },
          "execution_count": 23
        }
      ]
    },
    {
      "cell_type": "code",
      "metadata": {
        "id": "KGNqND4UPD4D",
        "colab_type": "code",
        "colab": {}
      },
      "source": [
        "X1, X2 = X[0:18], X[18:]"
      ],
      "execution_count": 24,
      "outputs": []
    },
    {
      "cell_type": "code",
      "metadata": {
        "id": "B8pl02JEPD4G",
        "colab_type": "code",
        "colab": {
          "base_uri": "https://localhost:8080/",
          "height": 50
        },
        "outputId": "7c8cc4b5-7774-4f52-c112-a82b34500c26"
      },
      "source": [
        "mean1, mean2 = X1.mean(), X2.mean()\n",
        "var1, var2 = X1.var(), X2.var()\n",
        "print('mean1={}, mean2={}'.format(mean1, mean2))\n",
        "print('variance1={}, variance2={}'.format(var1, var2))"
      ],
      "execution_count": 25,
      "outputs": [
        {
          "output_type": "stream",
          "text": [
            "mean1=591385.1111111111, mean2=616155.6111111111\n",
            "variance1=667492396.6543211, variance2=485281695.4598766\n"
          ],
          "name": "stdout"
        }
      ]
    },
    {
      "cell_type": "markdown",
      "metadata": {
        "id": "WNUbKiWePD4L",
        "colab_type": "text"
      },
      "source": [
        "#### Observation\n",
        "Not Stationary since the variance are not in the same range"
      ]
    },
    {
      "cell_type": "markdown",
      "metadata": {
        "id": "KmJS1MtlPD4M",
        "colab_type": "text"
      },
      "source": [
        "#### Augment Dickey Fuller Test¶\n"
      ]
    },
    {
      "cell_type": "code",
      "metadata": {
        "id": "N8X1WHN5PD4M",
        "colab_type": "code",
        "colab": {
          "base_uri": "https://localhost:8080/",
          "height": 70
        },
        "outputId": "fdf543dc-1924-4edc-f44b-39333d306218"
      },
      "source": [
        "from statsmodels.tsa.stattools import adfuller"
      ],
      "execution_count": 26,
      "outputs": [
        {
          "output_type": "stream",
          "text": [
            "/usr/local/lib/python3.6/dist-packages/statsmodels/tools/_testing.py:19: FutureWarning: pandas.util.testing is deprecated. Use the functions in the public API at pandas.testing instead.\n",
            "  import pandas.util.testing as tm\n"
          ],
          "name": "stderr"
        }
      ]
    },
    {
      "cell_type": "code",
      "metadata": {
        "id": "ACBzgS8cPD4P",
        "colab_type": "code",
        "colab": {}
      },
      "source": [
        "def adf_test(timeseries):\n",
        "    print ('Results of Aug. Dickey-Fuller Test:')\n",
        "    df_test = adfuller(timeseries, autolag='AIC')\n",
        "    df_output = pd.Series(df_test[0:4], index=['Test Statistic','p-value','#Lags Used','Number of Observations Used'])\n",
        "    for key,value in df_test[4].items():\n",
        "       df_output['Critical Value {}'.format(key)] = value\n",
        "    print (df_output)"
      ],
      "execution_count": 27,
      "outputs": []
    },
    {
      "cell_type": "code",
      "metadata": {
        "id": "hcA3FsrFPD4R",
        "colab_type": "code",
        "colab": {
          "base_uri": "https://localhost:8080/",
          "height": 168
        },
        "outputId": "4e7a6020-5384-4aad-a31f-a9809b02e873"
      },
      "source": [
        "\n",
        "adf_test(df['no_of_flights'])"
      ],
      "execution_count": 28,
      "outputs": [
        {
          "output_type": "stream",
          "text": [
            "Results of Aug. Dickey-Fuller Test:\n",
            "Test Statistic                 -0.693138\n",
            "p-value                         0.848519\n",
            "#Lags Used                     10.000000\n",
            "Number of Observations Used    25.000000\n",
            "Critical Value 1%              -3.723863\n",
            "Critical Value 5%              -2.986489\n",
            "Critical Value 10%             -2.632800\n",
            "dtype: float64\n"
          ],
          "name": "stdout"
        }
      ]
    },
    {
      "cell_type": "markdown",
      "metadata": {
        "id": "V-TPjihlPD4U",
        "colab_type": "text"
      },
      "source": [
        "### Observation\n",
        "* Test Stats is -0.69 which is greater than Critical Value at all point hence it is not\n",
        "* Not Stationary"
      ]
    },
    {
      "cell_type": "markdown",
      "metadata": {
        "id": "IizqGGDaPD4V",
        "colab_type": "text"
      },
      "source": [
        "### How to Make it Stationary\n",
        "* Difference\n",
        "* df.diff\n",
        "* yt = yt -y(t-1)\n",
        "* df['diff'] = df['a'] - df['a'].shift(1)\n",
        "### Log Transformation :to stabilize the non consistence values\n",
        "* using numpy.log()"
      ]
    },
    {
      "cell_type": "code",
      "metadata": {
        "id": "7k_0U5tAPD4W",
        "colab_type": "code",
        "colab": {
          "base_uri": "https://localhost:8080/",
          "height": 286
        },
        "outputId": "d9958800-a430-44c0-f328-86d66834641a"
      },
      "source": [
        "df.plot()"
      ],
      "execution_count": 29,
      "outputs": [
        {
          "output_type": "execute_result",
          "data": {
            "text/plain": [
              "<matplotlib.axes._subplots.AxesSubplot at 0x7fbd695fdd68>"
            ]
          },
          "metadata": {
            "tags": []
          },
          "execution_count": 29
        },
        {
          "output_type": "display_data",
          "data": {
            "image/png": "[encoded data removed]",
            "text/plain": [
              "<Figure size 432x288 with 1 Axes>"
            ]
          },
          "metadata": {
            "tags": [],
            "needs_background": "light"
          }
        }
      ]
    },
    {
      "cell_type": "code",
      "metadata": {
        "id": "vdZ-dVUJPD4Y",
        "colab_type": "code",
        "colab": {}
      },
      "source": [
        "df2 = df"
      ],
      "execution_count": 30,
      "outputs": []
    },
    {
      "cell_type": "code",
      "metadata": {
        "id": "oGplxf-6PD4a",
        "colab_type": "code",
        "colab": {
          "base_uri": "https://localhost:8080/",
          "height": 1000
        },
        "outputId": "938ef62e-d714-4932-ff04-89e17493254e"
      },
      "source": [
        "# Reformat\n",
        "df2.set_index(pd.DatetimeIndex(df2['Dates']))"
      ],
      "execution_count": 31,
      "outputs": [
        {
          "output_type": "execute_result",
          "data": {
            "text/html": [
              "<div>\n",
              "<style scoped>\n",
              "    .dataframe tbody tr th:only-of-type {\n",
              "        vertical-align: middle;\n",
              "    }\n",
              "\n",
              "    .dataframe tbody tr th {\n",
              "        vertical-align: top;\n",
              "    }\n",
              "\n",
              "    .dataframe thead th {\n",
              "        text-align: right;\n",
              "    }\n",
              "</style>\n",
              "<table border=\"1\" class=\"dataframe\">\n",
              "  <thead>\n",
              "    <tr style=\"text-align: right;\">\n",
              "      <th></th>\n",
              "      <th>Dates</th>\n",
              "      <th>no_of_flights</th>\n",
              "    </tr>\n",
              "    <tr>\n",
              "      <th>Dates</th>\n",
              "      <th></th>\n",
              "      <th></th>\n",
              "    </tr>\n",
              "  </thead>\n",
              "  <tbody>\n",
              "    <tr>\n",
              "      <th>2005-01-01</th>\n",
              "      <td>2005-01-01</td>\n",
              "      <td>594924</td>\n",
              "    </tr>\n",
              "    <tr>\n",
              "      <th>2005-02-01</th>\n",
              "      <td>2005-02-01</td>\n",
              "      <td>545332</td>\n",
              "    </tr>\n",
              "    <tr>\n",
              "      <th>2005-03-01</th>\n",
              "      <td>2005-03-01</td>\n",
              "      <td>617540</td>\n",
              "    </tr>\n",
              "    <tr>\n",
              "      <th>2005-04-01</th>\n",
              "      <td>2005-04-01</td>\n",
              "      <td>594492</td>\n",
              "    </tr>\n",
              "    <tr>\n",
              "      <th>2005-05-01</th>\n",
              "      <td>2005-05-01</td>\n",
              "      <td>614802</td>\n",
              "    </tr>\n",
              "    <tr>\n",
              "      <th>2005-06-01</th>\n",
              "      <td>2005-06-01</td>\n",
              "      <td>609195</td>\n",
              "    </tr>\n",
              "    <tr>\n",
              "      <th>2005-07-01</th>\n",
              "      <td>2005-07-01</td>\n",
              "      <td>627961</td>\n",
              "    </tr>\n",
              "    <tr>\n",
              "      <th>2005-08-01</th>\n",
              "      <td>2005-08-01</td>\n",
              "      <td>630904</td>\n",
              "    </tr>\n",
              "    <tr>\n",
              "      <th>2005-09-01</th>\n",
              "      <td>2005-09-01</td>\n",
              "      <td>574253</td>\n",
              "    </tr>\n",
              "    <tr>\n",
              "      <th>2005-10-01</th>\n",
              "      <td>2005-10-01</td>\n",
              "      <td>592712</td>\n",
              "    </tr>\n",
              "    <tr>\n",
              "      <th>2005-11-01</th>\n",
              "      <td>2005-11-01</td>\n",
              "      <td>566138</td>\n",
              "    </tr>\n",
              "    <tr>\n",
              "      <th>2005-12-01</th>\n",
              "      <td>2005-12-01</td>\n",
              "      <td>572343</td>\n",
              "    </tr>\n",
              "    <tr>\n",
              "      <th>2006-01-01</th>\n",
              "      <td>2006-01-01</td>\n",
              "      <td>581287</td>\n",
              "    </tr>\n",
              "    <tr>\n",
              "      <th>2006-02-01</th>\n",
              "      <td>2006-02-01</td>\n",
              "      <td>531247</td>\n",
              "    </tr>\n",
              "    <tr>\n",
              "      <th>2006-03-01</th>\n",
              "      <td>2006-03-01</td>\n",
              "      <td>605217</td>\n",
              "    </tr>\n",
              "    <tr>\n",
              "      <th>2006-04-01</th>\n",
              "      <td>2006-04-01</td>\n",
              "      <td>585351</td>\n",
              "    </tr>\n",
              "    <tr>\n",
              "      <th>2006-05-01</th>\n",
              "      <td>2006-05-01</td>\n",
              "      <td>602919</td>\n",
              "    </tr>\n",
              "    <tr>\n",
              "      <th>2006-06-01</th>\n",
              "      <td>2006-06-01</td>\n",
              "      <td>598315</td>\n",
              "    </tr>\n",
              "    <tr>\n",
              "      <th>2006-07-01</th>\n",
              "      <td>2006-07-01</td>\n",
              "      <td>621244</td>\n",
              "    </tr>\n",
              "    <tr>\n",
              "      <th>2006-08-01</th>\n",
              "      <td>2006-08-01</td>\n",
              "      <td>628732</td>\n",
              "    </tr>\n",
              "    <tr>\n",
              "      <th>2006-09-01</th>\n",
              "      <td>2006-09-01</td>\n",
              "      <td>584937</td>\n",
              "    </tr>\n",
              "    <tr>\n",
              "      <th>2006-10-01</th>\n",
              "      <td>2006-10-01</td>\n",
              "      <td>611718</td>\n",
              "    </tr>\n",
              "    <tr>\n",
              "      <th>2006-11-01</th>\n",
              "      <td>2006-11-01</td>\n",
              "      <td>586197</td>\n",
              "    </tr>\n",
              "    <tr>\n",
              "      <th>2006-12-01</th>\n",
              "      <td>2006-12-01</td>\n",
              "      <td>604758</td>\n",
              "    </tr>\n",
              "    <tr>\n",
              "      <th>2007-01-01</th>\n",
              "      <td>2007-01-01</td>\n",
              "      <td>621559</td>\n",
              "    </tr>\n",
              "    <tr>\n",
              "      <th>2007-02-01</th>\n",
              "      <td>2007-02-01</td>\n",
              "      <td>565604</td>\n",
              "    </tr>\n",
              "    <tr>\n",
              "      <th>2007-03-01</th>\n",
              "      <td>2007-03-01</td>\n",
              "      <td>639209</td>\n",
              "    </tr>\n",
              "    <tr>\n",
              "      <th>2007-04-01</th>\n",
              "      <td>2007-04-01</td>\n",
              "      <td>614648</td>\n",
              "    </tr>\n",
              "    <tr>\n",
              "      <th>2007-05-01</th>\n",
              "      <td>2007-05-01</td>\n",
              "      <td>631609</td>\n",
              "    </tr>\n",
              "    <tr>\n",
              "      <th>2007-06-01</th>\n",
              "      <td>2007-06-01</td>\n",
              "      <td>629280</td>\n",
              "    </tr>\n",
              "    <tr>\n",
              "      <th>2007-07-01</th>\n",
              "      <td>2007-07-01</td>\n",
              "      <td>648560</td>\n",
              "    </tr>\n",
              "    <tr>\n",
              "      <th>2007-08-01</th>\n",
              "      <td>2007-08-01</td>\n",
              "      <td>653279</td>\n",
              "    </tr>\n",
              "    <tr>\n",
              "      <th>2007-09-01</th>\n",
              "      <td>2007-09-01</td>\n",
              "      <td>600187</td>\n",
              "    </tr>\n",
              "    <tr>\n",
              "      <th>2007-10-01</th>\n",
              "      <td>2007-10-01</td>\n",
              "      <td>629992</td>\n",
              "    </tr>\n",
              "    <tr>\n",
              "      <th>2007-11-01</th>\n",
              "      <td>2007-11-01</td>\n",
              "      <td>605149</td>\n",
              "    </tr>\n",
              "    <tr>\n",
              "      <th>2007-12-01</th>\n",
              "      <td>2007-12-01</td>\n",
              "      <td>614139</td>\n",
              "    </tr>\n",
              "  </tbody>\n",
              "</table>\n",
              "</div>"
            ],
            "text/plain": [
              "                 Dates  no_of_flights\n",
              "Dates                                \n",
              "2005-01-01  2005-01-01         594924\n",
              "2005-02-01  2005-02-01         545332\n",
              "2005-03-01  2005-03-01         617540\n",
              "2005-04-01  2005-04-01         594492\n",
              "2005-05-01  2005-05-01         614802\n",
              "2005-06-01  2005-06-01         609195\n",
              "2005-07-01  2005-07-01         627961\n",
              "2005-08-01  2005-08-01         630904\n",
              "2005-09-01  2005-09-01         574253\n",
              "2005-10-01  2005-10-01         592712\n",
              "2005-11-01  2005-11-01         566138\n",
              "2005-12-01  2005-12-01         572343\n",
              "2006-01-01  2006-01-01         581287\n",
              "2006-02-01  2006-02-01         531247\n",
              "2006-03-01  2006-03-01         605217\n",
              "2006-04-01  2006-04-01         585351\n",
              "2006-05-01  2006-05-01         602919\n",
              "2006-06-01  2006-06-01         598315\n",
              "2006-07-01  2006-07-01         621244\n",
              "2006-08-01  2006-08-01         628732\n",
              "2006-09-01  2006-09-01         584937\n",
              "2006-10-01  2006-10-01         611718\n",
              "2006-11-01  2006-11-01         586197\n",
              "2006-12-01  2006-12-01         604758\n",
              "2007-01-01  2007-01-01         621559\n",
              "2007-02-01  2007-02-01         565604\n",
              "2007-03-01  2007-03-01         639209\n",
              "2007-04-01  2007-04-01         614648\n",
              "2007-05-01  2007-05-01         631609\n",
              "2007-06-01  2007-06-01         629280\n",
              "2007-07-01  2007-07-01         648560\n",
              "2007-08-01  2007-08-01         653279\n",
              "2007-09-01  2007-09-01         600187\n",
              "2007-10-01  2007-10-01         629992\n",
              "2007-11-01  2007-11-01         605149\n",
              "2007-12-01  2007-12-01         614139"
            ]
          },
          "metadata": {
            "tags": []
          },
          "execution_count": 31
        }
      ]
    },
    {
      "cell_type": "code",
      "metadata": {
        "id": "H45PrJ0mPD4d",
        "colab_type": "code",
        "colab": {}
      },
      "source": [
        "df2 = df2.drop('Dates',axis=1)"
      ],
      "execution_count": 32,
      "outputs": []
    },
    {
      "cell_type": "code",
      "metadata": {
        "id": "BFy2AIXLPD4f",
        "colab_type": "code",
        "colab": {
          "base_uri": "https://localhost:8080/",
          "height": 286
        },
        "outputId": "35ef72ac-c207-44e5-8aff-cbc885a471f3"
      },
      "source": [
        "df2.plot()"
      ],
      "execution_count": 33,
      "outputs": [
        {
          "output_type": "execute_result",
          "data": {
            "text/plain": [
              "<matplotlib.axes._subplots.AxesSubplot at 0x7fbd69335b70>"
            ]
          },
          "metadata": {
            "tags": []
          },
          "execution_count": 33
        },
        {
          "output_type": "display_data",
          "data": {
            "image/png": "[encoded data removed]",
            "text/plain": [
              "<Figure size 432x288 with 1 Axes>"
            ]
          },
          "metadata": {
            "tags": [],
            "needs_background": "light"
          }
        }
      ]
    },
    {
      "cell_type": "markdown",
      "metadata": {
        "id": "xzN7GYP4PD4h",
        "colab_type": "text"
      },
      "source": [
        "### Method 1 :Differencing To Fix Non Stationary Dataset"
      ]
    },
    {
      "cell_type": "code",
      "metadata": {
        "id": "aLGEw1A1PD4i",
        "colab_type": "code",
        "colab": {}
      },
      "source": [
        "# Differencing To Fix Non Stationary Dataset\n",
        "df2['no_of_flights'] = df2['no_of_flights'] - df2['no_of_flights'].shift(1)"
      ],
      "execution_count": 34,
      "outputs": []
    },
    {
      "cell_type": "code",
      "metadata": {
        "id": "2f17AJPpPD4k",
        "colab_type": "code",
        "colab": {
          "base_uri": "https://localhost:8080/",
          "height": 289
        },
        "outputId": "bea8014a-6957-4349-c387-434ed7dd287e"
      },
      "source": [
        "df2.plot()"
      ],
      "execution_count": 35,
      "outputs": [
        {
          "output_type": "execute_result",
          "data": {
            "text/plain": [
              "<matplotlib.axes._subplots.AxesSubplot at 0x7fbd692bb898>"
            ]
          },
          "metadata": {
            "tags": []
          },
          "execution_count": 35
        },
        {
          "output_type": "display_data",
          "data": {
            "image/png": "[encoded data removed]",
            "text/plain": [
              "<Figure size 432x288 with 1 Axes>"
            ]
          },
          "metadata": {
            "tags": [],
            "needs_background": "light"
          }
        }
      ]
    },
    {
      "cell_type": "code",
      "metadata": {
        "id": "rkZXGyo0PD4m",
        "colab_type": "code",
        "colab": {}
      },
      "source": [
        "### Using Pandas Diff on Dataset with DatetimeIndex\n",
        "df_diff = df2.diff(periods=1)"
      ],
      "execution_count": 36,
      "outputs": []
    },
    {
      "cell_type": "code",
      "metadata": {
        "id": "FKEqX1K1PD4p",
        "colab_type": "code",
        "colab": {
          "base_uri": "https://localhost:8080/",
          "height": 286
        },
        "outputId": "45c5898e-b15f-4a05-d629-23a4c7619f8f"
      },
      "source": [
        "df_diff.plot()"
      ],
      "execution_count": 37,
      "outputs": [
        {
          "output_type": "execute_result",
          "data": {
            "text/plain": [
              "<matplotlib.axes._subplots.AxesSubplot at 0x7fbd68ff4ef0>"
            ]
          },
          "metadata": {
            "tags": []
          },
          "execution_count": 37
        },
        {
          "output_type": "display_data",
          "data": {
            "image/png": "[encoded data removed]",
            "text/plain": [
              "<Figure size 432x288 with 1 Axes>"
            ]
          },
          "metadata": {
            "tags": [],
            "needs_background": "light"
          }
        }
      ]
    },
    {
      "cell_type": "code",
      "metadata": {
        "id": "5sBl9AhSPD4s",
        "colab_type": "code",
        "colab": {
          "base_uri": "https://localhost:8080/",
          "height": 286
        },
        "outputId": "47e57031-7411-4ac6-ffc4-ad8524f7c0c6"
      },
      "source": [
        "df_diff.plot(kind='hist')"
      ],
      "execution_count": 38,
      "outputs": [
        {
          "output_type": "execute_result",
          "data": {
            "text/plain": [
              "<matplotlib.axes._subplots.AxesSubplot at 0x7fbd68fd9e48>"
            ]
          },
          "metadata": {
            "tags": []
          },
          "execution_count": 38
        },
        {
          "output_type": "display_data",
          "data": {
            "image/png": "[encoded data removed]",
            "text/plain": [
              "<Figure size 432x288 with 1 Axes>"
            ]
          },
          "metadata": {
            "tags": [],
            "needs_background": "light"
          }
        }
      ]
    },
    {
      "cell_type": "markdown",
      "metadata": {
        "id": "cWNo1u8JPD4u",
        "colab_type": "text"
      },
      "source": [
        "#### Observation\n",
        "Our Dataset is now stationary"
      ]
    },
    {
      "cell_type": "markdown",
      "metadata": {
        "id": "MCQpfKmjPD4u",
        "colab_type": "text"
      },
      "source": [
        "### Decompose our Dataset\n",
        "To Find Trends,Seasonality"
      ]
    },
    {
      "cell_type": "code",
      "metadata": {
        "id": "5if70s7KPD4v",
        "colab_type": "code",
        "colab": {}
      },
      "source": [
        "# Load Stats Pkgs\n",
        "import statsmodels.api as sm"
      ],
      "execution_count": 39,
      "outputs": []
    },
    {
      "cell_type": "code",
      "metadata": {
        "id": "yiL71aCtPD4x",
        "colab_type": "code",
        "colab": {}
      },
      "source": [
        "df_n = pd.read_csv('flights.csv',parse_dates=['Dates'],index_col='Dates')"
      ],
      "execution_count": 40,
      "outputs": []
    },
    {
      "cell_type": "code",
      "metadata": {
        "id": "MP8ULtBMPD4z",
        "colab_type": "code",
        "colab": {
          "base_uri": "https://localhost:8080/",
          "height": 225
        },
        "outputId": "e00553ec-7a82-4912-b8fc-00560862c047"
      },
      "source": [
        "df_n.head()"
      ],
      "execution_count": 41,
      "outputs": [
        {
          "output_type": "execute_result",
          "data": {
            "text/html": [
              "<div>\n",
              "<style scoped>\n",
              "    .dataframe tbody tr th:only-of-type {\n",
              "        vertical-align: middle;\n",
              "    }\n",
              "\n",
              "    .dataframe tbody tr th {\n",
              "        vertical-align: top;\n",
              "    }\n",
              "\n",
              "    .dataframe thead th {\n",
              "        text-align: right;\n",
              "    }\n",
              "</style>\n",
              "<table border=\"1\" class=\"dataframe\">\n",
              "  <thead>\n",
              "    <tr style=\"text-align: right;\">\n",
              "      <th></th>\n",
              "      <th>no_of_flights</th>\n",
              "    </tr>\n",
              "    <tr>\n",
              "      <th>Dates</th>\n",
              "      <th></th>\n",
              "    </tr>\n",
              "  </thead>\n",
              "  <tbody>\n",
              "    <tr>\n",
              "      <th>2005-01-01</th>\n",
              "      <td>594924</td>\n",
              "    </tr>\n",
              "    <tr>\n",
              "      <th>2005-02-01</th>\n",
              "      <td>545332</td>\n",
              "    </tr>\n",
              "    <tr>\n",
              "      <th>2005-03-01</th>\n",
              "      <td>617540</td>\n",
              "    </tr>\n",
              "    <tr>\n",
              "      <th>2005-04-01</th>\n",
              "      <td>594492</td>\n",
              "    </tr>\n",
              "    <tr>\n",
              "      <th>2005-05-01</th>\n",
              "      <td>614802</td>\n",
              "    </tr>\n",
              "  </tbody>\n",
              "</table>\n",
              "</div>"
            ],
            "text/plain": [
              "            no_of_flights\n",
              "Dates                    \n",
              "2005-01-01         594924\n",
              "2005-02-01         545332\n",
              "2005-03-01         617540\n",
              "2005-04-01         594492\n",
              "2005-05-01         614802"
            ]
          },
          "metadata": {
            "tags": []
          },
          "execution_count": 41
        }
      ]
    },
    {
      "cell_type": "code",
      "metadata": {
        "id": "-9xXHxK5PD42",
        "colab_type": "code",
        "colab": {
          "base_uri": "https://localhost:8080/",
          "height": 432
        },
        "outputId": "60d49dd2-1215-461b-a5cc-56e12f28ba9a"
      },
      "source": [
        "# Makes it Easier to Manipulate by Time/Date\n",
        "df_n['2005']"
      ],
      "execution_count": 42,
      "outputs": [
        {
          "output_type": "execute_result",
          "data": {
            "text/html": [
              "<div>\n",
              "<style scoped>\n",
              "    .dataframe tbody tr th:only-of-type {\n",
              "        vertical-align: middle;\n",
              "    }\n",
              "\n",
              "    .dataframe tbody tr th {\n",
              "        vertical-align: top;\n",
              "    }\n",
              "\n",
              "    .dataframe thead th {\n",
              "        text-align: right;\n",
              "    }\n",
              "</style>\n",
              "<table border=\"1\" class=\"dataframe\">\n",
              "  <thead>\n",
              "    <tr style=\"text-align: right;\">\n",
              "      <th></th>\n",
              "      <th>no_of_flights</th>\n",
              "    </tr>\n",
              "    <tr>\n",
              "      <th>Dates</th>\n",
              "      <th></th>\n",
              "    </tr>\n",
              "  </thead>\n",
              "  <tbody>\n",
              "    <tr>\n",
              "      <th>2005-01-01</th>\n",
              "      <td>594924</td>\n",
              "    </tr>\n",
              "    <tr>\n",
              "      <th>2005-02-01</th>\n",
              "      <td>545332</td>\n",
              "    </tr>\n",
              "    <tr>\n",
              "      <th>2005-03-01</th>\n",
              "      <td>617540</td>\n",
              "    </tr>\n",
              "    <tr>\n",
              "      <th>2005-04-01</th>\n",
              "      <td>594492</td>\n",
              "    </tr>\n",
              "    <tr>\n",
              "      <th>2005-05-01</th>\n",
              "      <td>614802</td>\n",
              "    </tr>\n",
              "    <tr>\n",
              "      <th>2005-06-01</th>\n",
              "      <td>609195</td>\n",
              "    </tr>\n",
              "    <tr>\n",
              "      <th>2005-07-01</th>\n",
              "      <td>627961</td>\n",
              "    </tr>\n",
              "    <tr>\n",
              "      <th>2005-08-01</th>\n",
              "      <td>630904</td>\n",
              "    </tr>\n",
              "    <tr>\n",
              "      <th>2005-09-01</th>\n",
              "      <td>574253</td>\n",
              "    </tr>\n",
              "    <tr>\n",
              "      <th>2005-10-01</th>\n",
              "      <td>592712</td>\n",
              "    </tr>\n",
              "    <tr>\n",
              "      <th>2005-11-01</th>\n",
              "      <td>566138</td>\n",
              "    </tr>\n",
              "    <tr>\n",
              "      <th>2005-12-01</th>\n",
              "      <td>572343</td>\n",
              "    </tr>\n",
              "  </tbody>\n",
              "</table>\n",
              "</div>"
            ],
            "text/plain": [
              "            no_of_flights\n",
              "Dates                    \n",
              "2005-01-01         594924\n",
              "2005-02-01         545332\n",
              "2005-03-01         617540\n",
              "2005-04-01         594492\n",
              "2005-05-01         614802\n",
              "2005-06-01         609195\n",
              "2005-07-01         627961\n",
              "2005-08-01         630904\n",
              "2005-09-01         574253\n",
              "2005-10-01         592712\n",
              "2005-11-01         566138\n",
              "2005-12-01         572343"
            ]
          },
          "metadata": {
            "tags": []
          },
          "execution_count": 42
        }
      ]
    },
    {
      "cell_type": "code",
      "metadata": {
        "id": "d-8rxRi4PD44",
        "colab_type": "code",
        "colab": {
          "base_uri": "https://localhost:8080/",
          "height": 787
        },
        "outputId": "e2fb7e57-ec3f-4b86-ab7c-9c0025914a60"
      },
      "source": [
        "\n",
        "# We Can select by range of years\n",
        "df_n['2005':'2006']"
      ],
      "execution_count": 43,
      "outputs": [
        {
          "output_type": "execute_result",
          "data": {
            "text/html": [
              "<div>\n",
              "<style scoped>\n",
              "    .dataframe tbody tr th:only-of-type {\n",
              "        vertical-align: middle;\n",
              "    }\n",
              "\n",
              "    .dataframe tbody tr th {\n",
              "        vertical-align: top;\n",
              "    }\n",
              "\n",
              "    .dataframe thead th {\n",
              "        text-align: right;\n",
              "    }\n",
              "</style>\n",
              "<table border=\"1\" class=\"dataframe\">\n",
              "  <thead>\n",
              "    <tr style=\"text-align: right;\">\n",
              "      <th></th>\n",
              "      <th>no_of_flights</th>\n",
              "    </tr>\n",
              "    <tr>\n",
              "      <th>Dates</th>\n",
              "      <th></th>\n",
              "    </tr>\n",
              "  </thead>\n",
              "  <tbody>\n",
              "    <tr>\n",
              "      <th>2005-01-01</th>\n",
              "      <td>594924</td>\n",
              "    </tr>\n",
              "    <tr>\n",
              "      <th>2005-02-01</th>\n",
              "      <td>545332</td>\n",
              "    </tr>\n",
              "    <tr>\n",
              "      <th>2005-03-01</th>\n",
              "      <td>617540</td>\n",
              "    </tr>\n",
              "    <tr>\n",
              "      <th>2005-04-01</th>\n",
              "      <td>594492</td>\n",
              "    </tr>\n",
              "    <tr>\n",
              "      <th>2005-05-01</th>\n",
              "      <td>614802</td>\n",
              "    </tr>\n",
              "    <tr>\n",
              "      <th>2005-06-01</th>\n",
              "      <td>609195</td>\n",
              "    </tr>\n",
              "    <tr>\n",
              "      <th>2005-07-01</th>\n",
              "      <td>627961</td>\n",
              "    </tr>\n",
              "    <tr>\n",
              "      <th>2005-08-01</th>\n",
              "      <td>630904</td>\n",
              "    </tr>\n",
              "    <tr>\n",
              "      <th>2005-09-01</th>\n",
              "      <td>574253</td>\n",
              "    </tr>\n",
              "    <tr>\n",
              "      <th>2005-10-01</th>\n",
              "      <td>592712</td>\n",
              "    </tr>\n",
              "    <tr>\n",
              "      <th>2005-11-01</th>\n",
              "      <td>566138</td>\n",
              "    </tr>\n",
              "    <tr>\n",
              "      <th>2005-12-01</th>\n",
              "      <td>572343</td>\n",
              "    </tr>\n",
              "    <tr>\n",
              "      <th>2006-01-01</th>\n",
              "      <td>581287</td>\n",
              "    </tr>\n",
              "    <tr>\n",
              "      <th>2006-02-01</th>\n",
              "      <td>531247</td>\n",
              "    </tr>\n",
              "    <tr>\n",
              "      <th>2006-03-01</th>\n",
              "      <td>605217</td>\n",
              "    </tr>\n",
              "    <tr>\n",
              "      <th>2006-04-01</th>\n",
              "      <td>585351</td>\n",
              "    </tr>\n",
              "    <tr>\n",
              "      <th>2006-05-01</th>\n",
              "      <td>602919</td>\n",
              "    </tr>\n",
              "    <tr>\n",
              "      <th>2006-06-01</th>\n",
              "      <td>598315</td>\n",
              "    </tr>\n",
              "    <tr>\n",
              "      <th>2006-07-01</th>\n",
              "      <td>621244</td>\n",
              "    </tr>\n",
              "    <tr>\n",
              "      <th>2006-08-01</th>\n",
              "      <td>628732</td>\n",
              "    </tr>\n",
              "    <tr>\n",
              "      <th>2006-09-01</th>\n",
              "      <td>584937</td>\n",
              "    </tr>\n",
              "    <tr>\n",
              "      <th>2006-10-01</th>\n",
              "      <td>611718</td>\n",
              "    </tr>\n",
              "    <tr>\n",
              "      <th>2006-11-01</th>\n",
              "      <td>586197</td>\n",
              "    </tr>\n",
              "    <tr>\n",
              "      <th>2006-12-01</th>\n",
              "      <td>604758</td>\n",
              "    </tr>\n",
              "  </tbody>\n",
              "</table>\n",
              "</div>"
            ],
            "text/plain": [
              "            no_of_flights\n",
              "Dates                    \n",
              "2005-01-01         594924\n",
              "2005-02-01         545332\n",
              "2005-03-01         617540\n",
              "2005-04-01         594492\n",
              "2005-05-01         614802\n",
              "2005-06-01         609195\n",
              "2005-07-01         627961\n",
              "2005-08-01         630904\n",
              "2005-09-01         574253\n",
              "2005-10-01         592712\n",
              "2005-11-01         566138\n",
              "2005-12-01         572343\n",
              "2006-01-01         581287\n",
              "2006-02-01         531247\n",
              "2006-03-01         605217\n",
              "2006-04-01         585351\n",
              "2006-05-01         602919\n",
              "2006-06-01         598315\n",
              "2006-07-01         621244\n",
              "2006-08-01         628732\n",
              "2006-09-01         584937\n",
              "2006-10-01         611718\n",
              "2006-11-01         586197\n",
              "2006-12-01         604758"
            ]
          },
          "metadata": {
            "tags": []
          },
          "execution_count": 43
        }
      ]
    },
    {
      "cell_type": "code",
      "metadata": {
        "id": "KYkyDErePD46",
        "colab_type": "code",
        "colab": {
          "base_uri": "https://localhost:8080/",
          "height": 311
        },
        "outputId": "4456af2f-7b12-4b6d-c9ee-cb657301c541"
      },
      "source": [
        "# Plot it\n",
        "df_n.plot()"
      ],
      "execution_count": 44,
      "outputs": [
        {
          "output_type": "execute_result",
          "data": {
            "text/plain": [
              "<matplotlib.axes._subplots.AxesSubplot at 0x7fbd6049f940>"
            ]
          },
          "metadata": {
            "tags": []
          },
          "execution_count": 44
        },
        {
          "output_type": "display_data",
          "data": {
            "image/png": "[encoded data removed]",
            "text/plain": [
              "<Figure size 432x288 with 1 Axes>"
            ]
          },
          "metadata": {
            "tags": [],
            "needs_background": "light"
          }
        }
      ]
    },
    {
      "cell_type": "code",
      "metadata": {
        "id": "IRQ2G3FPPD48",
        "colab_type": "code",
        "colab": {
          "base_uri": "https://localhost:8080/",
          "height": 299
        },
        "outputId": "44fb90b7-fa58-48e0-f095-3a45fe19dce8"
      },
      "source": [
        "#### Decomposition Plot\n",
        "decomposition = sm.tsa.seasonal_decompose(df_n, model='additive')\n",
        "fig = decomposition.plot()"
      ],
      "execution_count": 45,
      "outputs": [
        {
          "output_type": "display_data",
          "data": {
            "image/png": "[encoded data removed]",
            "text/plain": [
              "<Figure size 432x288 with 4 Axes>"
            ]
          },
          "metadata": {
            "tags": [],
            "needs_background": "light"
          }
        }
      ]
    },
    {
      "cell_type": "markdown",
      "metadata": {
        "id": "eJN1PLbSPD4_",
        "colab_type": "text"
      },
      "source": [
        "### Using Facebook Prophet\n",
        "* Steps\n",
        "* Initialize Model :: Prophet()\n",
        "* Set columns as ds,y\n",
        "* Fit dataset :: Prophet().fit()\n",
        "* Create Dates To predict :: Prophet().make_future_dataframe(periods=365)\n",
        "* Predict :: Prophet().predict(future_dates)\n",
        "* Plot :: Prophet().plot(predictions)"
      ]
    },
    {
      "cell_type": "code",
      "metadata": {
        "id": "j7Vq6Ou7PD5A",
        "colab_type": "code",
        "colab": {
          "base_uri": "https://localhost:8080/",
          "height": 311
        },
        "outputId": "6bbdc60d-364d-4c99-c8e4-9e2846cbd520"
      },
      "source": [
        "# Plot\n",
        "df_n.plot()"
      ],
      "execution_count": 46,
      "outputs": [
        {
          "output_type": "execute_result",
          "data": {
            "text/plain": [
              "<matplotlib.axes._subplots.AxesSubplot at 0x7fbd5d96b4e0>"
            ]
          },
          "metadata": {
            "tags": []
          },
          "execution_count": 46
        },
        {
          "output_type": "display_data",
          "data": {
            "image/png": "[encoded data removed]",
            "text/plain": [
              "<Figure size 432x288 with 1 Axes>"
            ]
          },
          "metadata": {
            "tags": [],
            "needs_background": "light"
          }
        }
      ]
    },
    {
      "cell_type": "code",
      "metadata": {
        "id": "9Xf8cynuPD5C",
        "colab_type": "code",
        "colab": {}
      },
      "source": [
        "\n",
        "# Make it stationary\n",
        "sdf = df_n.diff(periods=1)"
      ],
      "execution_count": 47,
      "outputs": []
    },
    {
      "cell_type": "code",
      "metadata": {
        "id": "JT7_KVMEPD5E",
        "colab_type": "code",
        "colab": {
          "base_uri": "https://localhost:8080/",
          "height": 315
        },
        "outputId": "e3f2e319-0a41-48e9-e899-7d4b4addcb8a"
      },
      "source": [
        "\n",
        "sdf.plot()"
      ],
      "execution_count": 48,
      "outputs": [
        {
          "output_type": "execute_result",
          "data": {
            "text/plain": [
              "<matplotlib.axes._subplots.AxesSubplot at 0x7fbd5d898f28>"
            ]
          },
          "metadata": {
            "tags": []
          },
          "execution_count": 48
        },
        {
          "output_type": "display_data",
          "data": {
            "image/png": "[encoded data removed]",
            "text/plain": [
              "<Figure size 432x288 with 1 Axes>"
            ]
          },
          "metadata": {
            "tags": [],
            "needs_background": "light"
          }
        }
      ]
    },
    {
      "cell_type": "markdown",
      "metadata": {
        "id": "tG6O498-PD5H",
        "colab_type": "text"
      },
      "source": [
        "### Building Model"
      ]
    },
    {
      "cell_type": "code",
      "metadata": {
        "id": "YI0pODnKPD5I",
        "colab_type": "code",
        "colab": {
          "base_uri": "https://localhost:8080/",
          "height": 50
        },
        "outputId": "b5ac8f01-f33c-4884-bc03-984e59b3d6a6"
      },
      "source": [
        "sdf.dtypes"
      ],
      "execution_count": 49,
      "outputs": [
        {
          "output_type": "execute_result",
          "data": {
            "text/plain": [
              "no_of_flights    float64\n",
              "dtype: object"
            ]
          },
          "metadata": {
            "tags": []
          },
          "execution_count": 49
        }
      ]
    },
    {
      "cell_type": "code",
      "metadata": {
        "id": "TKhaEzayPD5K",
        "colab_type": "code",
        "colab": {}
      },
      "source": [
        "# load Timeseries Pkgs\n",
        "from fbprophet import Prophet"
      ],
      "execution_count": 50,
      "outputs": []
    },
    {
      "cell_type": "markdown",
      "metadata": {
        "id": "oXTpFoB4PD5M",
        "colab_type": "text"
      },
      "source": [
        "#### Parameters\n",
        "* growth: linear/logistic\n",
        "* seasonality:additive/multiplicative\n",
        "* holidays:\n",
        "* changepoint:"
      ]
    },
    {
      "cell_type": "code",
      "metadata": {
        "id": "YdrX9oTtPD5M",
        "colab_type": "code",
        "colab": {}
      },
      "source": [
        "# Initialize the Model\n",
        "m = Prophet()"
      ],
      "execution_count": 51,
      "outputs": []
    },
    {
      "cell_type": "code",
      "metadata": {
        "id": "Neu0rfE7PD5O",
        "colab_type": "code",
        "colab": {}
      },
      "source": [
        "# Make the index as ds\n",
        "sdf['ds'] = sdf.index"
      ],
      "execution_count": 52,
      "outputs": []
    },
    {
      "cell_type": "code",
      "metadata": {
        "id": "Oyl88vEfPD5R",
        "colab_type": "code",
        "colab": {
          "base_uri": "https://localhost:8080/",
          "height": 34
        },
        "outputId": "b1f62f36-6222-4530-e297-7004f1e0b8fd"
      },
      "source": [
        "sdf.columns"
      ],
      "execution_count": 53,
      "outputs": [
        {
          "output_type": "execute_result",
          "data": {
            "text/plain": [
              "Index(['no_of_flights', 'ds'], dtype='object')"
            ]
          },
          "metadata": {
            "tags": []
          },
          "execution_count": 53
        }
      ]
    },
    {
      "cell_type": "code",
      "metadata": {
        "id": "M6EA9yLyPD5T",
        "colab_type": "code",
        "colab": {}
      },
      "source": [
        "# Works with a ds and y column names\n",
        "sdf.rename(columns={'ds':'ds','no_of_flights':'y'},inplace=True)"
      ],
      "execution_count": 54,
      "outputs": []
    },
    {
      "cell_type": "code",
      "metadata": {
        "id": "WkD9iG3coUnh",
        "colab_type": "code",
        "colab": {}
      },
      "source": [
        ""
      ],
      "execution_count": null,
      "outputs": []
    },
    {
      "cell_type": "code",
      "metadata": {
        "id": "DKKvvA69PD5W",
        "colab_type": "code",
        "colab": {}
      },
      "source": [
        "new_df = sdf[['ds','y']]\n"
      ],
      "execution_count": 55,
      "outputs": []
    },
    {
      "cell_type": "code",
      "metadata": {
        "id": "XDJSVr-2oWnG",
        "colab_type": "code",
        "colab": {
          "base_uri": "https://localhost:8080/",
          "height": 1000
        },
        "outputId": "67de9e2c-97ba-428e-c9ac-9d04d8f0be39"
      },
      "source": [
        "new_df"
      ],
      "execution_count": 72,
      "outputs": [
        {
          "output_type": "execute_result",
          "data": {
            "text/html": [
              "<div>\n",
              "<style scoped>\n",
              "    .dataframe tbody tr th:only-of-type {\n",
              "        vertical-align: middle;\n",
              "    }\n",
              "\n",
              "    .dataframe tbody tr th {\n",
              "        vertical-align: top;\n",
              "    }\n",
              "\n",
              "    .dataframe thead th {\n",
              "        text-align: right;\n",
              "    }\n",
              "</style>\n",
              "<table border=\"1\" class=\"dataframe\">\n",
              "  <thead>\n",
              "    <tr style=\"text-align: right;\">\n",
              "      <th></th>\n",
              "      <th>ds</th>\n",
              "      <th>y</th>\n",
              "    </tr>\n",
              "    <tr>\n",
              "      <th>Dates</th>\n",
              "      <th></th>\n",
              "      <th></th>\n",
              "    </tr>\n",
              "  </thead>\n",
              "  <tbody>\n",
              "    <tr>\n",
              "      <th>2005-01-01</th>\n",
              "      <td>2005-01-01</td>\n",
              "      <td>NaN</td>\n",
              "    </tr>\n",
              "    <tr>\n",
              "      <th>2005-02-01</th>\n",
              "      <td>2005-02-01</td>\n",
              "      <td>-49592.0</td>\n",
              "    </tr>\n",
              "    <tr>\n",
              "      <th>2005-03-01</th>\n",
              "      <td>2005-03-01</td>\n",
              "      <td>72208.0</td>\n",
              "    </tr>\n",
              "    <tr>\n",
              "      <th>2005-04-01</th>\n",
              "      <td>2005-04-01</td>\n",
              "      <td>-23048.0</td>\n",
              "    </tr>\n",
              "    <tr>\n",
              "      <th>2005-05-01</th>\n",
              "      <td>2005-05-01</td>\n",
              "      <td>20310.0</td>\n",
              "    </tr>\n",
              "    <tr>\n",
              "      <th>2005-06-01</th>\n",
              "      <td>2005-06-01</td>\n",
              "      <td>-5607.0</td>\n",
              "    </tr>\n",
              "    <tr>\n",
              "      <th>2005-07-01</th>\n",
              "      <td>2005-07-01</td>\n",
              "      <td>18766.0</td>\n",
              "    </tr>\n",
              "    <tr>\n",
              "      <th>2005-08-01</th>\n",
              "      <td>2005-08-01</td>\n",
              "      <td>2943.0</td>\n",
              "    </tr>\n",
              "    <tr>\n",
              "      <th>2005-09-01</th>\n",
              "      <td>2005-09-01</td>\n",
              "      <td>-56651.0</td>\n",
              "    </tr>\n",
              "    <tr>\n",
              "      <th>2005-10-01</th>\n",
              "      <td>2005-10-01</td>\n",
              "      <td>18459.0</td>\n",
              "    </tr>\n",
              "    <tr>\n",
              "      <th>2005-11-01</th>\n",
              "      <td>2005-11-01</td>\n",
              "      <td>-26574.0</td>\n",
              "    </tr>\n",
              "    <tr>\n",
              "      <th>2005-12-01</th>\n",
              "      <td>2005-12-01</td>\n",
              "      <td>6205.0</td>\n",
              "    </tr>\n",
              "    <tr>\n",
              "      <th>2006-01-01</th>\n",
              "      <td>2006-01-01</td>\n",
              "      <td>8944.0</td>\n",
              "    </tr>\n",
              "    <tr>\n",
              "      <th>2006-02-01</th>\n",
              "      <td>2006-02-01</td>\n",
              "      <td>-50040.0</td>\n",
              "    </tr>\n",
              "    <tr>\n",
              "      <th>2006-03-01</th>\n",
              "      <td>2006-03-01</td>\n",
              "      <td>73970.0</td>\n",
              "    </tr>\n",
              "    <tr>\n",
              "      <th>2006-04-01</th>\n",
              "      <td>2006-04-01</td>\n",
              "      <td>-19866.0</td>\n",
              "    </tr>\n",
              "    <tr>\n",
              "      <th>2006-05-01</th>\n",
              "      <td>2006-05-01</td>\n",
              "      <td>17568.0</td>\n",
              "    </tr>\n",
              "    <tr>\n",
              "      <th>2006-06-01</th>\n",
              "      <td>2006-06-01</td>\n",
              "      <td>-4604.0</td>\n",
              "    </tr>\n",
              "    <tr>\n",
              "      <th>2006-07-01</th>\n",
              "      <td>2006-07-01</td>\n",
              "      <td>22929.0</td>\n",
              "    </tr>\n",
              "    <tr>\n",
              "      <th>2006-08-01</th>\n",
              "      <td>2006-08-01</td>\n",
              "      <td>7488.0</td>\n",
              "    </tr>\n",
              "    <tr>\n",
              "      <th>2006-09-01</th>\n",
              "      <td>2006-09-01</td>\n",
              "      <td>-43795.0</td>\n",
              "    </tr>\n",
              "    <tr>\n",
              "      <th>2006-10-01</th>\n",
              "      <td>2006-10-01</td>\n",
              "      <td>26781.0</td>\n",
              "    </tr>\n",
              "    <tr>\n",
              "      <th>2006-11-01</th>\n",
              "      <td>2006-11-01</td>\n",
              "      <td>-25521.0</td>\n",
              "    </tr>\n",
              "    <tr>\n",
              "      <th>2006-12-01</th>\n",
              "      <td>2006-12-01</td>\n",
              "      <td>18561.0</td>\n",
              "    </tr>\n",
              "    <tr>\n",
              "      <th>2007-01-01</th>\n",
              "      <td>2007-01-01</td>\n",
              "      <td>16801.0</td>\n",
              "    </tr>\n",
              "    <tr>\n",
              "      <th>2007-02-01</th>\n",
              "      <td>2007-02-01</td>\n",
              "      <td>-55955.0</td>\n",
              "    </tr>\n",
              "    <tr>\n",
              "      <th>2007-03-01</th>\n",
              "      <td>2007-03-01</td>\n",
              "      <td>73605.0</td>\n",
              "    </tr>\n",
              "    <tr>\n",
              "      <th>2007-04-01</th>\n",
              "      <td>2007-04-01</td>\n",
              "      <td>-24561.0</td>\n",
              "    </tr>\n",
              "    <tr>\n",
              "      <th>2007-05-01</th>\n",
              "      <td>2007-05-01</td>\n",
              "      <td>16961.0</td>\n",
              "    </tr>\n",
              "    <tr>\n",
              "      <th>2007-06-01</th>\n",
              "      <td>2007-06-01</td>\n",
              "      <td>-2329.0</td>\n",
              "    </tr>\n",
              "    <tr>\n",
              "      <th>2007-07-01</th>\n",
              "      <td>2007-07-01</td>\n",
              "      <td>19280.0</td>\n",
              "    </tr>\n",
              "    <tr>\n",
              "      <th>2007-08-01</th>\n",
              "      <td>2007-08-01</td>\n",
              "      <td>4719.0</td>\n",
              "    </tr>\n",
              "    <tr>\n",
              "      <th>2007-09-01</th>\n",
              "      <td>2007-09-01</td>\n",
              "      <td>-53092.0</td>\n",
              "    </tr>\n",
              "    <tr>\n",
              "      <th>2007-10-01</th>\n",
              "      <td>2007-10-01</td>\n",
              "      <td>29805.0</td>\n",
              "    </tr>\n",
              "    <tr>\n",
              "      <th>2007-11-01</th>\n",
              "      <td>2007-11-01</td>\n",
              "      <td>-24843.0</td>\n",
              "    </tr>\n",
              "    <tr>\n",
              "      <th>2007-12-01</th>\n",
              "      <td>2007-12-01</td>\n",
              "      <td>8990.0</td>\n",
              "    </tr>\n",
              "  </tbody>\n",
              "</table>\n",
              "</div>"
            ],
            "text/plain": [
              "                   ds        y\n",
              "Dates                         \n",
              "2005-01-01 2005-01-01      NaN\n",
              "2005-02-01 2005-02-01 -49592.0\n",
              "2005-03-01 2005-03-01  72208.0\n",
              "2005-04-01 2005-04-01 -23048.0\n",
              "2005-05-01 2005-05-01  20310.0\n",
              "2005-06-01 2005-06-01  -5607.0\n",
              "2005-07-01 2005-07-01  18766.0\n",
              "2005-08-01 2005-08-01   2943.0\n",
              "2005-09-01 2005-09-01 -56651.0\n",
              "2005-10-01 2005-10-01  18459.0\n",
              "2005-11-01 2005-11-01 -26574.0\n",
              "2005-12-01 2005-12-01   6205.0\n",
              "2006-01-01 2006-01-01   8944.0\n",
              "2006-02-01 2006-02-01 -50040.0\n",
              "2006-03-01 2006-03-01  73970.0\n",
              "2006-04-01 2006-04-01 -19866.0\n",
              "2006-05-01 2006-05-01  17568.0\n",
              "2006-06-01 2006-06-01  -4604.0\n",
              "2006-07-01 2006-07-01  22929.0\n",
              "2006-08-01 2006-08-01   7488.0\n",
              "2006-09-01 2006-09-01 -43795.0\n",
              "2006-10-01 2006-10-01  26781.0\n",
              "2006-11-01 2006-11-01 -25521.0\n",
              "2006-12-01 2006-12-01  18561.0\n",
              "2007-01-01 2007-01-01  16801.0\n",
              "2007-02-01 2007-02-01 -55955.0\n",
              "2007-03-01 2007-03-01  73605.0\n",
              "2007-04-01 2007-04-01 -24561.0\n",
              "2007-05-01 2007-05-01  16961.0\n",
              "2007-06-01 2007-06-01  -2329.0\n",
              "2007-07-01 2007-07-01  19280.0\n",
              "2007-08-01 2007-08-01   4719.0\n",
              "2007-09-01 2007-09-01 -53092.0\n",
              "2007-10-01 2007-10-01  29805.0\n",
              "2007-11-01 2007-11-01 -24843.0\n",
              "2007-12-01 2007-12-01   8990.0"
            ]
          },
          "metadata": {
            "tags": []
          },
          "execution_count": 72
        }
      ]
    },
    {
      "cell_type": "code",
      "metadata": {
        "id": "SIhLK5JZPD5Y",
        "colab_type": "code",
        "colab": {
          "base_uri": "https://localhost:8080/",
          "height": 225
        },
        "outputId": "8dbf5252-def0-481a-e503-7708e54224c0"
      },
      "source": [
        "new_df.head()\n"
      ],
      "execution_count": 56,
      "outputs": [
        {
          "output_type": "execute_result",
          "data": {
            "text/html": [
              "<div>\n",
              "<style scoped>\n",
              "    .dataframe tbody tr th:only-of-type {\n",
              "        vertical-align: middle;\n",
              "    }\n",
              "\n",
              "    .dataframe tbody tr th {\n",
              "        vertical-align: top;\n",
              "    }\n",
              "\n",
              "    .dataframe thead th {\n",
              "        text-align: right;\n",
              "    }\n",
              "</style>\n",
              "<table border=\"1\" class=\"dataframe\">\n",
              "  <thead>\n",
              "    <tr style=\"text-align: right;\">\n",
              "      <th></th>\n",
              "      <th>ds</th>\n",
              "      <th>y</th>\n",
              "    </tr>\n",
              "    <tr>\n",
              "      <th>Dates</th>\n",
              "      <th></th>\n",
              "      <th></th>\n",
              "    </tr>\n",
              "  </thead>\n",
              "  <tbody>\n",
              "    <tr>\n",
              "      <th>2005-01-01</th>\n",
              "      <td>2005-01-01</td>\n",
              "      <td>NaN</td>\n",
              "    </tr>\n",
              "    <tr>\n",
              "      <th>2005-02-01</th>\n",
              "      <td>2005-02-01</td>\n",
              "      <td>-49592.0</td>\n",
              "    </tr>\n",
              "    <tr>\n",
              "      <th>2005-03-01</th>\n",
              "      <td>2005-03-01</td>\n",
              "      <td>72208.0</td>\n",
              "    </tr>\n",
              "    <tr>\n",
              "      <th>2005-04-01</th>\n",
              "      <td>2005-04-01</td>\n",
              "      <td>-23048.0</td>\n",
              "    </tr>\n",
              "    <tr>\n",
              "      <th>2005-05-01</th>\n",
              "      <td>2005-05-01</td>\n",
              "      <td>20310.0</td>\n",
              "    </tr>\n",
              "  </tbody>\n",
              "</table>\n",
              "</div>"
            ],
            "text/plain": [
              "                   ds        y\n",
              "Dates                         \n",
              "2005-01-01 2005-01-01      NaN\n",
              "2005-02-01 2005-02-01 -49592.0\n",
              "2005-03-01 2005-03-01  72208.0\n",
              "2005-04-01 2005-04-01 -23048.0\n",
              "2005-05-01 2005-05-01  20310.0"
            ]
          },
          "metadata": {
            "tags": []
          },
          "execution_count": 56
        }
      ]
    },
    {
      "cell_type": "code",
      "metadata": {
        "id": "-pAQF1QGPD5b",
        "colab_type": "code",
        "colab": {
          "base_uri": "https://localhost:8080/",
          "height": 67
        },
        "outputId": "7437472e-5ddc-4620-dd94-9ec92d91d574"
      },
      "source": [
        "# Fit our Mode to our Data\n",
        "m.fit(new_df,algorithm='Newton')"
      ],
      "execution_count": 57,
      "outputs": [
        {
          "output_type": "stream",
          "text": [
            "INFO:fbprophet:Disabling weekly seasonality. Run prophet with weekly_seasonality=True to override this.\n",
            "INFO:fbprophet:Disabling daily seasonality. Run prophet with daily_seasonality=True to override this.\n"
          ],
          "name": "stderr"
        },
        {
          "output_type": "execute_result",
          "data": {
            "text/plain": [
              "<fbprophet.forecaster.Prophet at 0x7fbd5d7eceb8>"
            ]
          },
          "metadata": {
            "tags": []
          },
          "execution_count": 57
        }
      ]
    },
    {
      "cell_type": "code",
      "metadata": {
        "id": "Ylp3lXy1PD5e",
        "colab_type": "code",
        "colab": {}
      },
      "source": [
        "# Create Future Dates of 360 days\n",
        "future_dates = m.make_future_dataframe(periods=365)"
      ],
      "execution_count": 58,
      "outputs": []
    },
    {
      "cell_type": "code",
      "metadata": {
        "id": "zoPa4lepPD5g",
        "colab_type": "code",
        "colab": {}
      },
      "source": [
        "# Make Prediction with our Model\n",
        "prediction = m.predict(future_dates)"
      ],
      "execution_count": 59,
      "outputs": []
    },
    {
      "cell_type": "code",
      "metadata": {
        "id": "IELY_Mh8PD5i",
        "colab_type": "code",
        "colab": {
          "base_uri": "https://localhost:8080/",
          "height": 299
        },
        "outputId": "e47a2e65-2d49-4685-96ce-bfb3f65ffb73"
      },
      "source": [
        "prediction.head()\n"
      ],
      "execution_count": 60,
      "outputs": [
        {
          "output_type": "execute_result",
          "data": {
            "text/html": [
              "<div>\n",
              "<style scoped>\n",
              "    .dataframe tbody tr th:only-of-type {\n",
              "        vertical-align: middle;\n",
              "    }\n",
              "\n",
              "    .dataframe tbody tr th {\n",
              "        vertical-align: top;\n",
              "    }\n",
              "\n",
              "    .dataframe thead th {\n",
              "        text-align: right;\n",
              "    }\n",
              "</style>\n",
              "<table border=\"1\" class=\"dataframe\">\n",
              "  <thead>\n",
              "    <tr style=\"text-align: right;\">\n",
              "      <th></th>\n",
              "      <th>ds</th>\n",
              "      <th>trend</th>\n",
              "      <th>yhat_lower</th>\n",
              "      <th>yhat_upper</th>\n",
              "      <th>trend_lower</th>\n",
              "      <th>trend_upper</th>\n",
              "      <th>additive_terms</th>\n",
              "      <th>additive_terms_lower</th>\n",
              "      <th>additive_terms_upper</th>\n",
              "      <th>yearly</th>\n",
              "      <th>yearly_lower</th>\n",
              "      <th>yearly_upper</th>\n",
              "      <th>multiplicative_terms</th>\n",
              "      <th>multiplicative_terms_lower</th>\n",
              "      <th>multiplicative_terms_upper</th>\n",
              "      <th>yhat</th>\n",
              "    </tr>\n",
              "  </thead>\n",
              "  <tbody>\n",
              "    <tr>\n",
              "      <th>0</th>\n",
              "      <td>2005-01-01</td>\n",
              "      <td>-2711.794477</td>\n",
              "      <td>244.461402</td>\n",
              "      <td>7396.418953</td>\n",
              "      <td>-2711.794477</td>\n",
              "      <td>-2711.794477</td>\n",
              "      <td>6767.602439</td>\n",
              "      <td>6767.602439</td>\n",
              "      <td>6767.602439</td>\n",
              "      <td>6767.602439</td>\n",
              "      <td>6767.602439</td>\n",
              "      <td>6767.602439</td>\n",
              "      <td>0.0</td>\n",
              "      <td>0.0</td>\n",
              "      <td>0.0</td>\n",
              "      <td>4055.807963</td>\n",
              "    </tr>\n",
              "    <tr>\n",
              "      <th>1</th>\n",
              "      <td>2005-02-01</td>\n",
              "      <td>-2571.714150</td>\n",
              "      <td>-52804.782239</td>\n",
              "      <td>-46180.743906</td>\n",
              "      <td>-2571.714150</td>\n",
              "      <td>-2571.714150</td>\n",
              "      <td>-46882.135892</td>\n",
              "      <td>-46882.135892</td>\n",
              "      <td>-46882.135892</td>\n",
              "      <td>-46882.135892</td>\n",
              "      <td>-46882.135892</td>\n",
              "      <td>-46882.135892</td>\n",
              "      <td>0.0</td>\n",
              "      <td>0.0</td>\n",
              "      <td>0.0</td>\n",
              "      <td>-49453.850042</td>\n",
              "    </tr>\n",
              "    <tr>\n",
              "      <th>2</th>\n",
              "      <td>2005-03-01</td>\n",
              "      <td>-2445.189984</td>\n",
              "      <td>67383.007010</td>\n",
              "      <td>74071.556418</td>\n",
              "      <td>-2445.189984</td>\n",
              "      <td>-2445.189984</td>\n",
              "      <td>73145.012893</td>\n",
              "      <td>73145.012893</td>\n",
              "      <td>73145.012893</td>\n",
              "      <td>73145.012893</td>\n",
              "      <td>73145.012893</td>\n",
              "      <td>73145.012893</td>\n",
              "      <td>0.0</td>\n",
              "      <td>0.0</td>\n",
              "      <td>0.0</td>\n",
              "      <td>70699.822909</td>\n",
              "    </tr>\n",
              "    <tr>\n",
              "      <th>3</th>\n",
              "      <td>2005-04-01</td>\n",
              "      <td>-2305.109659</td>\n",
              "      <td>-27372.518813</td>\n",
              "      <td>-20586.933590</td>\n",
              "      <td>-2305.109659</td>\n",
              "      <td>-2305.109659</td>\n",
              "      <td>-21686.914067</td>\n",
              "      <td>-21686.914067</td>\n",
              "      <td>-21686.914067</td>\n",
              "      <td>-21686.914067</td>\n",
              "      <td>-21686.914067</td>\n",
              "      <td>-21686.914067</td>\n",
              "      <td>0.0</td>\n",
              "      <td>0.0</td>\n",
              "      <td>0.0</td>\n",
              "      <td>-23992.023726</td>\n",
              "    </tr>\n",
              "    <tr>\n",
              "      <th>4</th>\n",
              "      <td>2005-05-01</td>\n",
              "      <td>-2169.548053</td>\n",
              "      <td>14495.016517</td>\n",
              "      <td>21107.160885</td>\n",
              "      <td>-2169.548053</td>\n",
              "      <td>-2169.548053</td>\n",
              "      <td>19993.464270</td>\n",
              "      <td>19993.464270</td>\n",
              "      <td>19993.464270</td>\n",
              "      <td>19993.464270</td>\n",
              "      <td>19993.464270</td>\n",
              "      <td>19993.464270</td>\n",
              "      <td>0.0</td>\n",
              "      <td>0.0</td>\n",
              "      <td>0.0</td>\n",
              "      <td>17823.916217</td>\n",
              "    </tr>\n",
              "  </tbody>\n",
              "</table>\n",
              "</div>"
            ],
            "text/plain": [
              "          ds        trend  ...  multiplicative_terms_upper          yhat\n",
              "0 2005-01-01 -2711.794477  ...                         0.0   4055.807963\n",
              "1 2005-02-01 -2571.714150  ...                         0.0 -49453.850042\n",
              "2 2005-03-01 -2445.189984  ...                         0.0  70699.822909\n",
              "3 2005-04-01 -2305.109659  ...                         0.0 -23992.023726\n",
              "4 2005-05-01 -2169.548053  ...                         0.0  17823.916217\n",
              "\n",
              "[5 rows x 16 columns]"
            ]
          },
          "metadata": {
            "tags": []
          },
          "execution_count": 60
        }
      ]
    },
    {
      "cell_type": "markdown",
      "metadata": {
        "id": "FUIwKcz_UY6L",
        "colab_type": "text"
      },
      "source": [
        "**Observation**\n",
        "* **yhat** : the predicted forecast\n",
        "* **yhat_lower** : the lower border of the prediction\n",
        "* **yhat_upper**: the upper border of the prediction\n"
      ]
    },
    {
      "cell_type": "code",
      "metadata": {
        "id": "w0M-O1ATPD5j",
        "colab_type": "code",
        "colab": {
          "base_uri": "https://localhost:8080/",
          "height": 865
        },
        "outputId": "aab851d9-3a0b-4b85-b062-3f504af0e494"
      },
      "source": [
        "# Plot Our Predictions\n",
        "m.plot(prediction)"
      ],
      "execution_count": 61,
      "outputs": [
        {
          "output_type": "execute_result",
          "data": {
            "image/png": "[encoded data removed]",
            "text/plain": [
              "<Figure size 720x432 with 1 Axes>"
            ]
          },
          "metadata": {
            "tags": []
          },
          "execution_count": 61
        },
        {
          "output_type": "display_data",
          "data": {
            "image/png": "[encoded data removed]",
            "text/plain": [
              "<Figure size 720x432 with 1 Axes>"
            ]
          },
          "metadata": {
            "tags": []
          }
        }
      ]
    },
    {
      "cell_type": "markdown",
      "metadata": {
        "id": "Zi0K85RWVYwI",
        "colab_type": "text"
      },
      "source": [
        "###  Result\n",
        "A Trending data\n",
        "\n",
        "Black dots : the actual data points in our dataset.\n",
        "\n",
        "Deep blue line : the predicted forecast/the predicted values\n",
        "\n",
        "Light blue line : the boundaries"
      ]
    },
    {
      "cell_type": "code",
      "metadata": {
        "id": "QTdlmO98PD5o",
        "colab_type": "code",
        "colab": {
          "base_uri": "https://localhost:8080/",
          "height": 865
        },
        "outputId": "b485f9f3-6a33-464e-fd0f-311c0a302e5b"
      },
      "source": [
        "\n",
        "# Visualize Each Component [Trends,Weekly]\n",
        "m.plot_components(prediction)"
      ],
      "execution_count": 63,
      "outputs": [
        {
          "output_type": "execute_result",
          "data": {
            "image/png": "[encoded data removed]",
            "text/plain": [
              "<Figure size 648x432 with 2 Axes>"
            ]
          },
          "metadata": {
            "tags": []
          },
          "execution_count": 63
        },
        {
          "output_type": "display_data",
          "data": {
            "image/png": "[encoded data removed]",
            "text/plain": [
              "<Figure size 648x432 with 2 Axes>"
            ]
          },
          "metadata": {
            "tags": []
          }
        }
      ]
    },
    {
      "cell_type": "markdown",
      "metadata": {
        "id": "SfYplGq6VhRb",
        "colab_type": "text"
      },
      "source": [
        "**Cross Validation**\n",
        "\n",
        "For measuring forecast error by comparing the predicted values with the actual values\n",
        "\n",
        "**initial**:the size of the initial training period\n",
        "\n",
        "**period** : the spacing between cutoff dates\n",
        "\n",
        "**horizon** : the forecast horizon"
      ]
    },
    {
      "cell_type": "code",
      "metadata": {
        "id": "jThlPQOGPD5s",
        "colab_type": "code",
        "colab": {}
      },
      "source": [
        "# Load Pkgs\n",
        "from fbprophet.diagnostics import cross_validation"
      ],
      "execution_count": 64,
      "outputs": []
    },
    {
      "cell_type": "code",
      "metadata": {
        "id": "_SCKjDhxPD5u",
        "colab_type": "code",
        "colab": {
          "base_uri": "https://localhost:8080/",
          "height": 34
        },
        "outputId": "b4e5ab12-3d2c-4ac2-fe08-cf7be9fe701d"
      },
      "source": [
        "new_df.shape\n"
      ],
      "execution_count": 65,
      "outputs": [
        {
          "output_type": "execute_result",
          "data": {
            "text/plain": [
              "(36, 2)"
            ]
          },
          "metadata": {
            "tags": []
          },
          "execution_count": 65
        }
      ]
    },
    {
      "cell_type": "code",
      "metadata": {
        "id": "M2f6X76rPD5w",
        "colab_type": "code",
        "colab": {
          "base_uri": "https://localhost:8080/",
          "height": 166,
          "referenced_widgets": [
            "135d456d95c74813a539f17d05a983cf",
            "d64a0ef8fb9348979adbf8a65291e4d0",
            "3c09e2116ad342b2829c074d31d1063b",
            "1256fdceca4c4b5da8e7a237236df5a8",
            "e3e81cbf9a934d30a0efbcf07b650795",
            "11648bf559ac42fa9d61d888667074f9",
            "d20695c0bdf34537a157c6a61412bec5",
            "75bf8d16c304476a8f07a28808bc3032"
          ]
        },
        "outputId": "1f7530ea-4e12-4bcf-ba07-9e6a5d162aea"
      },
      "source": [
        "cv = cross_validation(m,initial='36 days',period='180 days',horizon=\"365 days\")\n"
      ],
      "execution_count": 66,
      "outputs": [
        {
          "output_type": "stream",
          "text": [
            "INFO:fbprophet:Making 4 forecasts with cutoffs between 2005-06-09 00:00:00 and 2006-12-01 00:00:00\n",
            "WARNING:fbprophet:Seasonality has period of 365.25 days which is larger than initial window. Consider increasing initial.\n"
          ],
          "name": "stderr"
        },
        {
          "output_type": "display_data",
          "data": {
            "application/vnd.jupyter.widget-view+json": {
              "model_id": "135d456d95c74813a539f17d05a983cf",
              "version_minor": 0,
              "version_major": 2
            },
            "text/plain": [
              "HBox(children=(FloatProgress(value=0.0, max=4.0), HTML(value='')))"
            ]
          },
          "metadata": {
            "tags": []
          }
        },
        {
          "output_type": "stream",
          "text": [
            "INFO:fbprophet:n_changepoints greater than number of observations. Using 3.\n",
            "INFO:fbprophet:n_changepoints greater than number of observations. Using 7.\n",
            "INFO:fbprophet:n_changepoints greater than number of observations. Using 12.\n",
            "INFO:fbprophet:n_changepoints greater than number of observations. Using 17.\n"
          ],
          "name": "stderr"
        },
        {
          "output_type": "stream",
          "text": [
            "\n"
          ],
          "name": "stdout"
        }
      ]
    },
    {
      "cell_type": "code",
      "metadata": {
        "id": "JlkClXEmPD5y",
        "colab_type": "code",
        "colab": {
          "base_uri": "https://localhost:8080/",
          "height": 166,
          "referenced_widgets": [
            "ed6240f75b9d46179794e659ef0ac02f",
            "4715cae675e047a8b2f23bebdbe0bab3",
            "4abc95f975304adfa5647cf6bdcca1bc",
            "94215afb5b684639a020aa4b28b85a12",
            "630881e9925049c896c3df1d3f268297",
            "7f8adebb431c4776ab246393af757314",
            "71e258cada7a495d9e947e38af8e2c46",
            "8ffd740ad10e4d3ea29e999de7643eec"
          ]
        },
        "outputId": "623bcd59-cb52-44ee-9b56-7734e3691987"
      },
      "source": [
        "\n",
        "cv = cross_validation(m,initial='36 days',period='180 days',horizon=\"365 days\")\n"
      ],
      "execution_count": 68,
      "outputs": [
        {
          "output_type": "stream",
          "text": [
            "INFO:fbprophet:Making 4 forecasts with cutoffs between 2005-06-09 00:00:00 and 2006-12-01 00:00:00\n",
            "WARNING:fbprophet:Seasonality has period of 365.25 days which is larger than initial window. Consider increasing initial.\n"
          ],
          "name": "stderr"
        },
        {
          "output_type": "display_data",
          "data": {
            "application/vnd.jupyter.widget-view+json": {
              "model_id": "ed6240f75b9d46179794e659ef0ac02f",
              "version_minor": 0,
              "version_major": 2
            },
            "text/plain": [
              "HBox(children=(FloatProgress(value=0.0, max=4.0), HTML(value='')))"
            ]
          },
          "metadata": {
            "tags": []
          }
        },
        {
          "output_type": "stream",
          "text": [
            "INFO:fbprophet:n_changepoints greater than number of observations. Using 3.\n",
            "INFO:fbprophet:n_changepoints greater than number of observations. Using 7.\n",
            "INFO:fbprophet:n_changepoints greater than number of observations. Using 12.\n",
            "INFO:fbprophet:n_changepoints greater than number of observations. Using 17.\n"
          ],
          "name": "stderr"
        },
        {
          "output_type": "stream",
          "text": [
            "\n"
          ],
          "name": "stdout"
        }
      ]
    },
    {
      "cell_type": "code",
      "metadata": {
        "id": "Xw4z_GlsPD51",
        "colab_type": "code",
        "colab": {
          "base_uri": "https://localhost:8080/",
          "height": 195
        },
        "outputId": "54ee3ea1-2462-4d14-d1d3-26da9a8d2859"
      },
      "source": [
        "# View CV Data\n",
        "cv.head()"
      ],
      "execution_count": 69,
      "outputs": [
        {
          "output_type": "execute_result",
          "data": {
            "text/html": [
              "<div>\n",
              "<style scoped>\n",
              "    .dataframe tbody tr th:only-of-type {\n",
              "        vertical-align: middle;\n",
              "    }\n",
              "\n",
              "    .dataframe tbody tr th {\n",
              "        vertical-align: top;\n",
              "    }\n",
              "\n",
              "    .dataframe thead th {\n",
              "        text-align: right;\n",
              "    }\n",
              "</style>\n",
              "<table border=\"1\" class=\"dataframe\">\n",
              "  <thead>\n",
              "    <tr style=\"text-align: right;\">\n",
              "      <th></th>\n",
              "      <th>ds</th>\n",
              "      <th>yhat</th>\n",
              "      <th>yhat_lower</th>\n",
              "      <th>yhat_upper</th>\n",
              "      <th>y</th>\n",
              "      <th>cutoff</th>\n",
              "    </tr>\n",
              "  </thead>\n",
              "  <tbody>\n",
              "    <tr>\n",
              "      <th>0</th>\n",
              "      <td>2005-07-01</td>\n",
              "      <td>132382.788801</td>\n",
              "      <td>132382.788706</td>\n",
              "      <td>132382.788905</td>\n",
              "      <td>18766.0</td>\n",
              "      <td>2005-06-09</td>\n",
              "    </tr>\n",
              "    <tr>\n",
              "      <th>1</th>\n",
              "      <td>2005-08-01</td>\n",
              "      <td>-319924.148158</td>\n",
              "      <td>-319924.148544</td>\n",
              "      <td>-319924.147771</td>\n",
              "      <td>2943.0</td>\n",
              "      <td>2005-06-09</td>\n",
              "    </tr>\n",
              "    <tr>\n",
              "      <th>2</th>\n",
              "      <td>2005-09-01</td>\n",
              "      <td>109440.248487</td>\n",
              "      <td>109440.247688</td>\n",
              "      <td>109440.249297</td>\n",
              "      <td>-56651.0</td>\n",
              "      <td>2005-06-09</td>\n",
              "    </tr>\n",
              "    <tr>\n",
              "      <th>3</th>\n",
              "      <td>2005-10-01</td>\n",
              "      <td>300035.317030</td>\n",
              "      <td>300035.315807</td>\n",
              "      <td>300035.318284</td>\n",
              "      <td>18459.0</td>\n",
              "      <td>2005-06-09</td>\n",
              "    </tr>\n",
              "    <tr>\n",
              "      <th>4</th>\n",
              "      <td>2005-11-01</td>\n",
              "      <td>98862.531051</td>\n",
              "      <td>98862.529344</td>\n",
              "      <td>98862.532812</td>\n",
              "      <td>-26574.0</td>\n",
              "      <td>2005-06-09</td>\n",
              "    </tr>\n",
              "  </tbody>\n",
              "</table>\n",
              "</div>"
            ],
            "text/plain": [
              "          ds           yhat     yhat_lower     yhat_upper        y     cutoff\n",
              "0 2005-07-01  132382.788801  132382.788706  132382.788905  18766.0 2005-06-09\n",
              "1 2005-08-01 -319924.148158 -319924.148544 -319924.147771   2943.0 2005-06-09\n",
              "2 2005-09-01  109440.248487  109440.247688  109440.249297 -56651.0 2005-06-09\n",
              "3 2005-10-01  300035.317030  300035.315807  300035.318284  18459.0 2005-06-09\n",
              "4 2005-11-01   98862.531051   98862.529344   98862.532812 -26574.0 2005-06-09"
            ]
          },
          "metadata": {
            "tags": []
          },
          "execution_count": 69
        }
      ]
    },
    {
      "cell_type": "markdown",
      "metadata": {
        "id": "NytBVR7faaSi",
        "colab_type": "text"
      },
      "source": [
        ""
      ]
    },
    {
      "cell_type": "code",
      "metadata": {
        "id": "54oVpCapPD53",
        "colab_type": "code",
        "colab": {
          "base_uri": "https://localhost:8080/",
          "height": 195
        },
        "outputId": "92741ef7-cc5c-4c92-f8d5-f3a5e73edc80"
      },
      "source": [
        "### Performance Metrics\n",
        "from fbprophet.diagnostics import performance_metrics\n",
        "df_perf = performance_metrics(cv)\n",
        "df_perf.head()\n",
        "\n"
      ],
      "execution_count": 70,
      "outputs": [
        {
          "output_type": "execute_result",
          "data": {
            "text/html": [
              "<div>\n",
              "<style scoped>\n",
              "    .dataframe tbody tr th:only-of-type {\n",
              "        vertical-align: middle;\n",
              "    }\n",
              "\n",
              "    .dataframe tbody tr th {\n",
              "        vertical-align: top;\n",
              "    }\n",
              "\n",
              "    .dataframe thead th {\n",
              "        text-align: right;\n",
              "    }\n",
              "</style>\n",
              "<table border=\"1\" class=\"dataframe\">\n",
              "  <thead>\n",
              "    <tr style=\"text-align: right;\">\n",
              "      <th></th>\n",
              "      <th>horizon</th>\n",
              "      <th>mse</th>\n",
              "      <th>rmse</th>\n",
              "      <th>mae</th>\n",
              "      <th>mape</th>\n",
              "      <th>mdape</th>\n",
              "      <th>coverage</th>\n",
              "    </tr>\n",
              "  </thead>\n",
              "  <tbody>\n",
              "    <tr>\n",
              "      <th>0</th>\n",
              "      <td>31 days</td>\n",
              "      <td>5.164322e+09</td>\n",
              "      <td>71863.213878</td>\n",
              "      <td>56431.774454</td>\n",
              "      <td>4.254110</td>\n",
              "      <td>3.406143</td>\n",
              "      <td>0.0</td>\n",
              "    </tr>\n",
              "    <tr>\n",
              "      <th>1</th>\n",
              "      <td>53 days</td>\n",
              "      <td>2.799793e+10</td>\n",
              "      <td>167325.809947</td>\n",
              "      <td>108744.364293</td>\n",
              "      <td>30.167214</td>\n",
              "      <td>5.191032</td>\n",
              "      <td>0.0</td>\n",
              "    </tr>\n",
              "    <tr>\n",
              "      <th>2</th>\n",
              "      <td>57 days</td>\n",
              "      <td>2.639988e+10</td>\n",
              "      <td>162480.392544</td>\n",
              "      <td>95198.623099</td>\n",
              "      <td>27.920522</td>\n",
              "      <td>0.697647</td>\n",
              "      <td>0.0</td>\n",
              "    </tr>\n",
              "    <tr>\n",
              "      <th>3</th>\n",
              "      <td>58 days</td>\n",
              "      <td>2.644925e+10</td>\n",
              "      <td>162632.261740</td>\n",
              "      <td>96711.029403</td>\n",
              "      <td>28.421493</td>\n",
              "      <td>1.670879</td>\n",
              "      <td>0.0</td>\n",
              "    </tr>\n",
              "    <tr>\n",
              "      <th>4</th>\n",
              "      <td>62 days</td>\n",
              "      <td>2.652185e+10</td>\n",
              "      <td>162855.292857</td>\n",
              "      <td>98845.786752</td>\n",
              "      <td>28.327063</td>\n",
              "      <td>1.610636</td>\n",
              "      <td>0.0</td>\n",
              "    </tr>\n",
              "  </tbody>\n",
              "</table>\n",
              "</div>"
            ],
            "text/plain": [
              "  horizon           mse           rmse  ...       mape     mdape  coverage\n",
              "0 31 days  5.164322e+09   71863.213878  ...   4.254110  3.406143       0.0\n",
              "1 53 days  2.799793e+10  167325.809947  ...  30.167214  5.191032       0.0\n",
              "2 57 days  2.639988e+10  162480.392544  ...  27.920522  0.697647       0.0\n",
              "3 58 days  2.644925e+10  162632.261740  ...  28.421493  1.670879       0.0\n",
              "4 62 days  2.652185e+10  162855.292857  ...  28.327063  1.610636       0.0\n",
              "\n",
              "[5 rows x 7 columns]"
            ]
          },
          "metadata": {
            "tags": []
          },
          "execution_count": 70
        }
      ]
    },
    {
      "cell_type": "code",
      "metadata": {
        "id": "v5D-hhFXai7P",
        "colab_type": "code",
        "colab": {
          "base_uri": "https://localhost:8080/",
          "height": 767
        },
        "outputId": "0be8cf6c-92b9-4c23-d730-cf4f224e9e2e"
      },
      "source": [
        "### Visualizing Performance Metrics\n",
        "from fbprophet.plot import plot_cross_validation_metric\n",
        "plot_cross_validation_metric(cv,metric='rmse')\n",
        "\n"
      ],
      "execution_count": 71,
      "outputs": [
        {
          "output_type": "execute_result",
          "data": {
            "image/png": "[encoded data removed]",
            "text/plain": [
              "<Figure size 720x432 with 1 Axes>"
            ]
          },
          "metadata": {
            "tags": []
          },
          "execution_count": 71
        },
        {
          "output_type": "display_data",
          "data": {
            "image/png": "[encoded data removed]",
            "text/plain": [
              "<Figure size 720x432 with 1 Axes>"
            ]
          },
          "metadata": {
            "tags": []
          }
        }
      ]
    },
    {
      "cell_type": "code",
      "metadata": {
        "id": "RvjmiK_VlM6z",
        "colab_type": "code",
        "colab": {}
      },
      "source": [
        ""
      ],
      "execution_count": null,
      "outputs": []
    }
  ]
}