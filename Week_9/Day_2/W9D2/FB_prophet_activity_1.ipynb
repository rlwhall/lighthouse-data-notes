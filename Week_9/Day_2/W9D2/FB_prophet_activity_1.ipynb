{
  "nbformat": 4,
  "nbformat_minor": 0,
  "metadata": {
    "colab": {
      "name": "FB prophet activity 1.ipynb",
      "provenance": [],
      "collapsed_sections": []
    },
    "kernelspec": {
      "name": "python3",
      "display_name": "Python 3"
    }
  },
  "cells": [
    {
      "cell_type": "markdown",
      "metadata": {
        "id": "umpxqG6G9TwE",
        "colab_type": "text"
      },
      "source": [
        "### We will predict the daily number of posts published on Medium."
      ]
    },
    {
      "cell_type": "markdown",
      "metadata": {
        "id": "Vg3RPpg99ZJX",
        "colab_type": "text"
      },
      "source": [
        "#### upload activity file provide to you"
      ]
    },
    {
      "cell_type": "code",
      "metadata": {
        "id": "wNYumaE_9GMp",
        "colab_type": "code",
        "colab": {}
      },
      "source": [
        "from google.colab import files\n",
        "data_to_load = files.upload()"
      ],
      "execution_count": null,
      "outputs": []
    },
    {
      "cell_type": "markdown",
      "metadata": {
        "id": "pIOa2nbt9hMG",
        "colab_type": "text"
      },
      "source": [
        "### Do the following:\n",
        "1. load file in dataframe\n",
        "2. drop na and drop duplicates\n",
        "3. convert published column to datetime\n",
        "4. sort values in published column by date\n",
        "5. observe data using head() function\n",
        "6. remove any data before august 15,2012"
      ]
    },
    {
      "cell_type": "markdown",
      "metadata": {
        "id": "OMed4y_n_WQz",
        "colab_type": "text"
      },
      "source": [
        "#### Aggregate count of posts per date. Remember date is published column in datetime format. you should obtain a df with one column with counts. name this column as posts."
      ]
    },
    {
      "cell_type": "code",
      "metadata": {
        "id": "dw4gKHxj9goI",
        "colab_type": "code",
        "colab": {}
      },
      "source": [
        "### create aggr_df"
      ],
      "execution_count": null,
      "outputs": []
    },
    {
      "cell_type": "code",
      "metadata": {
        "id": "Ny7qR6h9A8dt",
        "colab_type": "code",
        "colab": {}
      },
      "source": [
        ""
      ],
      "execution_count": null,
      "outputs": []
    },
    {
      "cell_type": "code",
      "metadata": {
        "id": "jvfcZvBo9eMO",
        "colab_type": "code",
        "colab": {}
      },
      "source": [
        "### As you can see data is in irregular time intervals. this we do the following operation to our aggr_df dataframe"
      ],
      "execution_count": null,
      "outputs": []
    },
    {
      "cell_type": "code",
      "metadata": {
        "id": "vNYujn2F_8Qr",
        "colab_type": "code",
        "colab": {}
      },
      "source": [
        "# change irregular time intervals\n",
        "daily_df = aggr_df.resample('D').apply(sum)\n",
        "daily_df.head(n=3)"
      ],
      "execution_count": null,
      "outputs": []
    },
    {
      "cell_type": "code",
      "metadata": {
        "id": "vX5xYPUEB4s1",
        "colab_type": "code",
        "colab": {}
      },
      "source": [
        ""
      ],
      "execution_count": null,
      "outputs": []
    },
    {
      "cell_type": "code",
      "metadata": {
        "id": "11gFUEYZCrVR",
        "colab_type": "code",
        "colab": {}
      },
      "source": [
        "## use FB prophet \n",
        "## convert daily_df to include columns ds and y\n",
        "df = daily_df.reset_index()\n",
        "df.columns = ['ds', 'y']\n",
        "# converting timezones (issue https://github.com/facebook/prophet/issues/831)\n",
        "df['ds'] = df['ds'].dt.tz_convert(None)\n",
        "df.tail(n=3)"
      ],
      "execution_count": null,
      "outputs": []
    },
    {
      "cell_type": "code",
      "metadata": {
        "id": "78DCGVQBD5M5",
        "colab_type": "code",
        "colab": {}
      },
      "source": [
        "prediction_size = 30\n",
        "train_df = df[:-prediction_size]\n",
        "train_df.tail(n=3)"
      ],
      "execution_count": null,
      "outputs": []
    },
    {
      "cell_type": "code",
      "metadata": {
        "id": "9hUAE5HxD-pl",
        "colab_type": "code",
        "colab": {
          "base_uri": "https://localhost:8080/",
          "height": 195
        },
        "outputId": "d23ab08a-7a68-4d12-e596-7d55c16f9b7e"
      },
      "source": [
        "### initialize prophet and fit train data\n",
        "from fbprophet import Prophet\n",
        "m = Prophet()\n",
        "m.fit(train_df);"
      ],
      "execution_count": null,
      "outputs": [
        {
          "output_type": "error",
          "ename": "NameError",
          "evalue": "ignored",
          "traceback": [
            "\u001b[0;31m---------------------------------------------------------------------------\u001b[0m",
            "\u001b[0;31mNameError\u001b[0m                                 Traceback (most recent call last)",
            "\u001b[0;32m<ipython-input-8-1d619ecd9dcc>\u001b[0m in \u001b[0;36m<module>\u001b[0;34m()\u001b[0m\n\u001b[1;32m      1\u001b[0m \u001b[0;31m### initialize prophet and fit train data\u001b[0m\u001b[0;34m\u001b[0m\u001b[0;34m\u001b[0m\u001b[0;34m\u001b[0m\u001b[0m\n\u001b[0;32m----> 2\u001b[0;31m \u001b[0mm\u001b[0m \u001b[0;34m=\u001b[0m \u001b[0mProphet\u001b[0m\u001b[0;34m(\u001b[0m\u001b[0;34m)\u001b[0m\u001b[0;34m\u001b[0m\u001b[0;34m\u001b[0m\u001b[0m\n\u001b[0m\u001b[1;32m      3\u001b[0m \u001b[0mm\u001b[0m\u001b[0;34m.\u001b[0m\u001b[0mfit\u001b[0m\u001b[0;34m(\u001b[0m\u001b[0mtrain_df\u001b[0m\u001b[0;34m)\u001b[0m\u001b[0;34m;\u001b[0m\u001b[0;34m\u001b[0m\u001b[0;34m\u001b[0m\u001b[0m\n",
            "\u001b[0;31mNameError\u001b[0m: name 'Prophet' is not defined"
          ]
        }
      ]
    },
    {
      "cell_type": "code",
      "metadata": {
        "id": "JU0MQNXhEC-B",
        "colab_type": "code",
        "colab": {}
      },
      "source": [
        "### make future dataframe for 30 days. name it future\n",
        "future = "
      ],
      "execution_count": null,
      "outputs": []
    },
    {
      "cell_type": "code",
      "metadata": {
        "id": "rpdq9kueEm72",
        "colab_type": "code",
        "colab": {}
      },
      "source": [
        "#forecast future"
      ],
      "execution_count": null,
      "outputs": []
    },
    {
      "cell_type": "code",
      "metadata": {
        "id": "q0qWBwgBEpwz",
        "colab_type": "code",
        "colab": {}
      },
      "source": [
        "#plot forecasted values"
      ],
      "execution_count": null,
      "outputs": []
    }
  ]
}